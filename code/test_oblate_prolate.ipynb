{
 "cells": [
  {
   "cell_type": "markdown",
   "metadata": {},
   "source": [
    "# Comparison between prolate ellipsoid and oblate ellipsoid"
   ]
  },
  {
   "cell_type": "markdown",
   "metadata": {},
   "source": [
    "### Import the required modules and functions"
   ]
  },
  {
   "cell_type": "code",
   "execution_count": 1,
   "metadata": {
    "collapsed": false
   },
   "outputs": [
    {
     "name": "stderr",
     "output_type": "stream",
     "text": [
      "C:\\Users\\Vanderlei\\Documents\\fatiando\\fatiando\\vis\\mpl.py:76: UserWarning: This module will be removed in v0.6. We recommend the use of matplotlib.pyplot module directly. Some of the fatiando specific functions will remain.\n",
      "  \"specific functions will remain.\")\n"
     ]
    }
   ],
   "source": [
    "%matplotlib inline\n",
    "import numpy as np\n",
    "from matplotlib import pyplot as plt\n",
    "from fatiando import mesher, gridder, utils\n",
    "from fatiando.gravmag import oblate_ellipsoid, prolate_ellipsoid"
   ]
  },
  {
   "cell_type": "markdown",
   "metadata": {},
   "source": [
    "### Set some parameters for modelling"
   ]
  },
  {
   "cell_type": "code",
   "execution_count": 2,
   "metadata": {
    "collapsed": true
   },
   "outputs": [],
   "source": [
    "# The local-geomagnetic field\n",
    "F, inc, dec = 60000., 50., 20.\n",
    "\n",
    "# boundaries of the study area\n",
    "bounds = [-5000, 5000, -4000, 6000, 0, 5000]\n",
    "\n",
    "# Create a regular grid at 100m height\n",
    "shape = (200, 200)\n",
    "area = bounds[:4]\n",
    "xp, yp, zp = gridder.regular(area, shape, z=0)"
   ]
  },
  {
   "cell_type": "markdown",
   "metadata": {},
   "source": [
    "### Triaxial ellipsoid versus prolate ellipsoid"
   ]
  },
  {
   "cell_type": "markdown",
   "metadata": {},
   "source": [
    "This test compares the total-field anomalies produced by a triaxial ellipsoid with that produced by a prolate ellipsoid. The triaxial ellipsoid has semi-axes $a$, $b$, and $c$ equal to `800 m`, `301 m`, and `299 m`, respectively, and the prolate ellipsoid has semi-axes $a$ and $b$ equal to `800 m` and `300 m`, respectively. Both bodies are centered at the point `(0, 1000, 2000)`."
   ]
  },
  {
   "cell_type": "markdown",
   "metadata": {},
   "source": [
    "##### Triaxial ellipsoid"
   ]
  },
  {
   "cell_type": "code",
   "execution_count": null,
   "metadata": {
    "collapsed": false
   },
   "outputs": [],
   "source": [
    "triaxial = mesher.TriaxialEllipsoid(0, 1000, 2000,\n",
    "                                    800, 401, 399,\n",
    "                                    180*np.random.rand(), 90, 90*np.random.rand(),\n",
    "                                    {'remanence': [2, 64, -9],\n",
    "                                     'k': [0.01, 0.01, 0.01, 0, 90, 90]})"
   ]
  },
  {
   "cell_type": "markdown",
   "metadata": {},
   "source": [
    "##### Prolate ellipsoid"
   ]
  },
  {
   "cell_type": "code",
   "execution_count": null,
   "metadata": {
    "collapsed": false
   },
   "outputs": [],
   "source": [
    "prolate = mesher.ProlateEllipsoid(0, 1000, 2000,\n",
    "                                  800, 400,\n",
    "                                  triaxial.alpha, triaxial.delta,\n",
    "                                  {'remanence': [2, 64, -9],\n",
    "                                   'k': [0.01, 0.01, 0.01, 0, 90]})"
   ]
  },
  {
   "cell_type": "markdown",
   "metadata": {},
   "source": [
    "##### Total-field anomalies"
   ]
  },
  {
   "cell_type": "code",
   "execution_count": null,
   "metadata": {
    "collapsed": false
   },
   "outputs": [],
   "source": [
    "# total-field anomaly produced by the triaxial ellipsoid (in nT)\n",
    "tf_t = triaxial_ellipsoid.tf(xp, yp, zp, [triaxial],\n",
    "                             F, inc, dec)\n",
    "\n",
    "# total-field anomaly produced by the prolate ellipsoid (in nT)\n",
    "tf_p = prolate_ellipsoid.tf(xp, yp, zp, [prolate],\n",
    "                            F, inc, dec)"
   ]
  },
  {
   "cell_type": "code",
   "execution_count": null,
   "metadata": {
    "collapsed": false
   },
   "outputs": [],
   "source": [
    "#plt.figure(figsize=(3.27, 1.5))\n",
    "plt.figure(figsize=(8, 3))\n",
    "plt.axis('scaled')\n",
    "\n",
    "ranges = np.max(np.abs([np.min(tf_t), np.max(tf_t),\n",
    "                        np.min(tf_p), np.max(tf_p)]))\n",
    "plt.subplot(1,2,1)\n",
    "plt.contourf(0.001*yp.reshape(shape), 0.001*xp.reshape(shape),\n",
    "             tf_t.reshape(shape), 20,\n",
    "             cmap = plt.get_cmap('RdBu_r'),\n",
    "             vmin = -ranges, vmax = ranges)\n",
    "plt.ylabel('x (km)', fontsize=8)\n",
    "plt.xticks(fontsize=6)\n",
    "plt.yticks(fontsize=6)\n",
    "plt.xlim(0.001*np.min(yp), 0.001*np.max(yp))\n",
    "plt.ylim(0.001*np.min(xp), 0.001*np.max(xp))\n",
    "cbar = plt.colorbar()\n",
    "plt.annotate(s='(a)', xy=(0.90,0.93), \n",
    "              xycoords = 'axes fraction', color='k',\n",
    "              fontsize=8)\n",
    "plt.subplot(1,2,2)\n",
    "plt.contourf(0.001*yp.reshape(shape), 0.001*xp.reshape(shape),\n",
    "             tf_p.reshape(shape), 20,\n",
    "             cmap = plt.get_cmap('RdBu_r'),\n",
    "             vmin = -ranges, vmax = ranges)\n",
    "plt.ylabel('x (km)', fontsize=8)\n",
    "plt.xticks(fontsize=6)\n",
    "plt.yticks(fontsize=6)\n",
    "plt.xlim(0.001*np.min(yp), 0.001*np.max(yp))\n",
    "plt.ylim(0.001*np.min(xp), 0.001*np.max(xp))\n",
    "plt.colorbar()\n",
    "plt.annotate(s='(b)', xy=(0.90,0.93), \n",
    "              xycoords = 'axes fraction', color='k',\n",
    "              fontsize=8)\n",
    "\n",
    "plt.tight_layout()\n",
    "#plt.savefig('..\\\\manuscript\\\\figures\\\\fields_triaxial_sphere.pdf', facecolor='w', bbox_inches='tight')"
   ]
  },
  {
   "cell_type": "markdown",
   "metadata": {},
   "source": [
    "##### Field components"
   ]
  },
  {
   "cell_type": "code",
   "execution_count": null,
   "metadata": {
    "collapsed": false
   },
   "outputs": [],
   "source": [
    "# field components produced by the triaxial ellipsoid (in nT)\n",
    "bx_t = triaxial_ellipsoid.bx(xp, yp, zp, [triaxial],\n",
    "                             F, inc, dec)\n",
    "by_t = triaxial_ellipsoid.by(xp, yp, zp, [triaxial],\n",
    "                             F, inc, dec)\n",
    "bz_t = triaxial_ellipsoid.bz(xp, yp, zp, [triaxial],\n",
    "                             F, inc, dec)\n",
    "\n",
    "# field components produced by the prolate ellipsoid (in nT)\n",
    "bx_p = prolate_ellipsoid.bx(xp, yp, zp, [prolate],\n",
    "                            F, inc, dec)\n",
    "by_p = prolate_ellipsoid.by(xp, yp, zp, [prolate],\n",
    "                            F, inc, dec)\n",
    "bz_p = prolate_ellipsoid.bz(xp, yp, zp, [prolate],\n",
    "                            F, inc, dec)"
   ]
  },
  {
   "cell_type": "code",
   "execution_count": null,
   "metadata": {
    "collapsed": false
   },
   "outputs": [],
   "source": [
    "#plt.figure(figsize=(3.27, 1.5))\n",
    "plt.figure(figsize=(8, 9))\n",
    "plt.axis('scaled')\n",
    "\n",
    "ranges = np.max(np.abs([np.min(bx_t), np.max(bx_t),\n",
    "                        np.min(bx_p), np.max(bx_p)]))\n",
    "plt.subplot(3,2,1)\n",
    "plt.contourf(0.001*yp.reshape(shape), 0.001*xp.reshape(shape),\n",
    "             bx_t.reshape(shape), 20,\n",
    "             cmap = plt.get_cmap('RdBu_r'),\n",
    "             vmin = -ranges, vmax = ranges)\n",
    "plt.ylabel('x (km)', fontsize=8)\n",
    "plt.xticks(fontsize=6)\n",
    "plt.yticks(fontsize=6)\n",
    "plt.xlim(0.001*np.min(yp), 0.001*np.max(yp))\n",
    "plt.ylim(0.001*np.min(xp), 0.001*np.max(xp))\n",
    "cbar = plt.colorbar()\n",
    "plt.annotate(s='(a)', xy=(0.90,0.93), \n",
    "              xycoords = 'axes fraction', color='k',\n",
    "              fontsize=8)\n",
    "plt.subplot(3,2,2)\n",
    "plt.contourf(0.001*yp.reshape(shape), 0.001*xp.reshape(shape),\n",
    "             bx_p.reshape(shape), 20,\n",
    "             cmap = plt.get_cmap('RdBu_r'),\n",
    "             vmin = -ranges, vmax = ranges)\n",
    "plt.ylabel('x (km)', fontsize=8)\n",
    "plt.xticks(fontsize=6)\n",
    "plt.yticks(fontsize=6)\n",
    "plt.xlim(0.001*np.min(yp), 0.001*np.max(yp))\n",
    "plt.ylim(0.001*np.min(xp), 0.001*np.max(xp))\n",
    "plt.colorbar()\n",
    "plt.annotate(s='(b)', xy=(0.90,0.93), \n",
    "              xycoords = 'axes fraction', color='k',\n",
    "              fontsize=8)\n",
    "\n",
    "ranges = np.max(np.abs([np.min(by_t), np.max(by_t),\n",
    "                        np.min(by_p), np.max(by_p)]))\n",
    "plt.subplot(3,2,3)\n",
    "plt.contourf(0.001*yp.reshape(shape), 0.001*xp.reshape(shape),\n",
    "             by_t.reshape(shape), 20,\n",
    "             cmap = plt.get_cmap('RdBu_r'),\n",
    "             vmin = -ranges, vmax = ranges)\n",
    "plt.ylabel('x (km)', fontsize=8)\n",
    "plt.xticks(fontsize=6)\n",
    "plt.yticks(fontsize=6)\n",
    "plt.xlim(0.001*np.min(yp), 0.001*np.max(yp))\n",
    "plt.ylim(0.001*np.min(xp), 0.001*np.max(xp))\n",
    "cbar = plt.colorbar()\n",
    "plt.annotate(s='(c)', xy=(0.90,0.93), \n",
    "              xycoords = 'axes fraction', color='k',\n",
    "              fontsize=8)\n",
    "plt.subplot(3,2,4)\n",
    "plt.contourf(0.001*yp.reshape(shape), 0.001*xp.reshape(shape),\n",
    "             by_p.reshape(shape), 20,\n",
    "             cmap = plt.get_cmap('RdBu_r'),\n",
    "             vmin = -ranges, vmax = ranges)\n",
    "plt.ylabel('x (km)', fontsize=8)\n",
    "plt.xticks(fontsize=6)\n",
    "plt.yticks(fontsize=6)\n",
    "plt.xlim(0.001*np.min(yp), 0.001*np.max(yp))\n",
    "plt.ylim(0.001*np.min(xp), 0.001*np.max(xp))\n",
    "plt.colorbar()\n",
    "plt.annotate(s='(d)', xy=(0.90,0.93), \n",
    "              xycoords = 'axes fraction', color='k',\n",
    "              fontsize=8)\n",
    "\n",
    "ranges = np.max(np.abs([np.min(bz_t), np.max(bz_t),\n",
    "                        np.min(bz_p), np.max(bz_p)]))\n",
    "plt.subplot(3,2,5)\n",
    "plt.contourf(0.001*yp.reshape(shape), 0.001*xp.reshape(shape),\n",
    "             bz_t.reshape(shape), 20,\n",
    "             cmap = plt.get_cmap('RdBu_r'),\n",
    "             vmin = -ranges, vmax = ranges)\n",
    "plt.ylabel('x (km)', fontsize=8)\n",
    "plt.xticks(fontsize=6)\n",
    "plt.yticks(fontsize=6)\n",
    "plt.xlim(0.001*np.min(yp), 0.001*np.max(yp))\n",
    "plt.ylim(0.001*np.min(xp), 0.001*np.max(xp))\n",
    "cbar = plt.colorbar()\n",
    "plt.annotate(s='(e)', xy=(0.90,0.93), \n",
    "              xycoords = 'axes fraction', color='k',\n",
    "              fontsize=8)\n",
    "plt.subplot(3,2,6)\n",
    "plt.contourf(0.001*yp.reshape(shape), 0.001*xp.reshape(shape),\n",
    "             bz_p.reshape(shape), 20,\n",
    "             cmap = plt.get_cmap('RdBu_r'),\n",
    "             vmin = -ranges, vmax = ranges)\n",
    "plt.ylabel('x (km)', fontsize=8)\n",
    "plt.xticks(fontsize=6)\n",
    "plt.yticks(fontsize=6)\n",
    "plt.xlim(0.001*np.min(yp), 0.001*np.max(yp))\n",
    "plt.ylim(0.001*np.min(xp), 0.001*np.max(xp))\n",
    "plt.colorbar()\n",
    "plt.annotate(s='(f)', xy=(0.90,0.93), \n",
    "              xycoords = 'axes fraction', color='k',\n",
    "              fontsize=8)\n",
    "\n",
    "plt.tight_layout()\n",
    "#plt.savefig('..\\\\manuscript\\\\figures\\\\fields_triaxial_sphere.pdf', facecolor='w', bbox_inches='tight')"
   ]
  }
 ],
 "metadata": {
  "anaconda-cloud": {},
  "kernelspec": {
   "display_name": "Python [default]",
   "language": "python",
   "name": "python2"
  },
  "language_info": {
   "codemirror_mode": {
    "name": "ipython",
    "version": 2
   },
   "file_extension": ".py",
   "mimetype": "text/x-python",
   "name": "python",
   "nbconvert_exporter": "python",
   "pygments_lexer": "ipython2",
   "version": "2.7.10"
  }
 },
 "nbformat": 4,
 "nbformat_minor": 1
}
