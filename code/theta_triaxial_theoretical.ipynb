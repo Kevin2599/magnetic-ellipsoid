{
 "cells": [
  {
   "cell_type": "markdown",
   "metadata": {},
   "source": [
    "# Relationship isotropic susceptibility $\\chi$ and self-demagnetization"
   ]
  },
  {
   "cell_type": "markdown",
   "metadata": {},
   "source": [
    "This code shows the relationship between the isotropic susceptibility $\\chi$ and the self-demagnetization for triaxial ellipsoids as a function of the ratio $\\frac{a - b}{b - c}$."
   ]
  },
  {
   "cell_type": "markdown",
   "metadata": {},
   "source": [
    "### Import the required modules"
   ]
  },
  {
   "cell_type": "code",
   "execution_count": 1,
   "metadata": {
    "collapsed": false
   },
   "outputs": [
    {
     "name": "stderr",
     "output_type": "stream",
     "text": [
      "C:\\Users\\Vanderlei\\Documents\\fatiando\\fatiando\\vis\\mpl.py:76: UserWarning: This module will be removed in v0.6. We recommend the use of matplotlib.pyplot module directly. Some of the fatiando specific functions will remain.\n",
      "  \"specific functions will remain.\")\n"
     ]
    }
   ],
   "source": [
    "%matplotlib inline\n",
    "import numpy as np\n",
    "from numpy.random import rand\n",
    "from matplotlib import pyplot as plt\n",
    "from matplotlib.colors import Normalize\n",
    "from matplotlib.colorbar import ColorbarBase\n",
    "from matplotlib.cm import get_cmap\n",
    "from fatiando import mesher, utils\n",
    "from fatiando.gravmag import triaxial_ellipsoid"
   ]
  },
  {
   "cell_type": "raw",
   "metadata": {
    "collapsed": true
   },
   "source": [
    "# Set some plot parameters\n",
    "from matplotlib import rcParams\n",
    "rcParams['figure.dpi'] = 300.\n",
    "rcParams['font.size'] = 6\n",
    "rcParams['xtick.labelsize'] = 'medium'\n",
    "rcParams['ytick.labelsize'] = 'medium'\n",
    "rcParams['axes.labelsize'] = 'large'\n",
    "rcParams['legend.fontsize'] = 'medium'\n",
    "rcParams['savefig.dpi'] = 300."
   ]
  },
  {
   "cell_type": "markdown",
   "metadata": {},
   "source": [
    "### Local-geomagnetic field"
   ]
  },
  {
   "cell_type": "code",
   "execution_count": 16,
   "metadata": {
    "collapsed": true
   },
   "outputs": [],
   "source": [
    "F = 20000. + 40000.*np.random.rand()\n",
    "inc = -90 + 180*np.random.rand()\n",
    "dec = 360*np.random.rand()"
   ]
  },
  {
   "cell_type": "markdown",
   "metadata": {},
   "source": [
    "### Triaxial ellipsoid"
   ]
  },
  {
   "cell_type": "code",
   "execution_count": 17,
   "metadata": {
    "collapsed": false
   },
   "outputs": [],
   "source": [
    "a = 1000.*np.random.rand()\n",
    "b = a*np.random.rand()\n",
    "c = b*np.random.rand()\n",
    "\n",
    "strike = 360*np.random.rand()\n",
    "dip = 90*np.random.rand()\n",
    "rake = 90*np.random.rand()\n",
    "\n",
    "alpha, gamma, delta = triaxial_ellipsoid.structural_angles(strike, dip, rake)\n",
    "V = triaxial_ellipsoid.V(alpha, gamma, delta)\n",
    "n11, n22, n33 = triaxial_ellipsoid.demag_factors(a, b, c)\n",
    "\n",
    "strike_k = 360*np.random.rand()\n",
    "dip_k = 90*np.random.rand()\n",
    "rake_k = 90*np.random.rand()\n",
    "\n",
    "alpha_k, gamma_k, delta_k = triaxial_ellipsoid.structural_angles(strike_k, dip_k, rake_k)\n",
    "V_k = triaxial_ellipsoid.V(alpha_k, gamma_k, delta_k)"
   ]
  },
  {
   "cell_type": "code",
   "execution_count": 18,
   "metadata": {
    "collapsed": true
   },
   "outputs": [],
   "source": [
    "# Isostropic susceptibility $\\chi$ (in SI)\n",
    "k = np.linspace(0.001, 0.4, 50)\n",
    "\n",
    "# Relative error\n",
    "error = []\n",
    "\n",
    "for ki in k:\n",
    "    \n",
    "    # susceptibility tensor\n",
    "    K = triaxial_ellipsoid.K(ki, ki, ki, \n",
    "                             alpha_k, gamma_k, delta_k)\n",
    "    # magnetization in the local system\n",
    "    true_mag = triaxial_ellipsoid.magnetization(n11, n22, n33, K, F, inc, dec, 0., 0., 0., V)\n",
    "    # magnetization in the main system\n",
    "    true_mag = np.dot(V, true_mag)\n",
    "    # magnetization norm\n",
    "    true_mag_norm = np.linalg.norm(true_mag, ord = 2)\n",
    "    \n",
    "    # Approximated magnetization\n",
    "    approx_mag = ki*(F/(4*np.pi*100))*utils.ang2vec(1., inc, dec)\n",
    "    \n",
    "    # delta magnetization\n",
    "    delta_mag_norm = np.linalg.norm(true_mag - approx_mag, ord = 2)\n",
    "\n",
    "    # Relative error\n",
    "    error.append(delta_mag_norm/true_mag_norm)"
   ]
  },
  {
   "cell_type": "code",
   "execution_count": 19,
   "metadata": {
    "collapsed": true
   },
   "outputs": [],
   "source": [
    "error_bound = 0.1\n",
    "#chi_limit = error_bound/(n33*(1 - error_bound))\n",
    "chi_limit = error_bound/n33"
   ]
  },
  {
   "cell_type": "code",
   "execution_count": 20,
   "metadata": {
    "collapsed": false,
    "scrolled": true
   },
   "outputs": [
    {
     "data": {
      "image/png": "[encoded data removed]",
      "text/plain": [
       "<matplotlib.figure.Figure at 0xaf15b38>"
      ]
     },
     "metadata": {},
     "output_type": "display_data"
    }
   ],
   "source": [
    "plt.figure(figsize=(5,4))\n",
    "plt.plot(k, error, '-b')\n",
    "plt.plot([k.min(), k.max()], [error_bound, error_bound], '-k')\n",
    "plt.plot([chi_limit, chi_limit], [0., 10.], '-r')\n",
    "plt.xlim(k.min(), k.max())\n",
    "plt.ylim(0., 0.15)\n",
    "plt.show()"
   ]
  },
  {
   "cell_type": "code",
   "execution_count": 21,
   "metadata": {
    "collapsed": true
   },
   "outputs": [],
   "source": [
    "# susceptibility tensor\n",
    "K = triaxial_ellipsoid.K(chi_limit, chi_limit, chi_limit, \n",
    "                         alpha_k, gamma_k, delta_k)\n",
    "# magnetization in the local system\n",
    "true_mag = triaxial_ellipsoid.magnetization(n11, n22, n33, K, F, inc, dec, 0., 0., 0., V)\n",
    "# magnetization in the main system\n",
    "true_mag = np.dot(V, true_mag)\n",
    "# magnetization norm\n",
    "true_mag_norm = np.linalg.norm(true_mag, ord = 2)\n",
    "\n",
    "# Approximated magnetization\n",
    "approx_mag = chi_limit*(F/(4*np.pi*100))*utils.ang2vec(1., inc, dec)\n",
    "\n",
    "# delta magnetization\n",
    "delta_mag_norm = np.linalg.norm(true_mag - approx_mag, ord = 2)\n",
    "\n",
    "# Relative error\n",
    "error_theoretical = delta_mag_norm/true_mag_norm"
   ]
  },
  {
   "cell_type": "code",
   "execution_count": 22,
   "metadata": {
    "collapsed": false
   },
   "outputs": [
    {
     "data": {
      "text/plain": [
       "True"
      ]
     },
     "execution_count": 22,
     "metadata": {},
     "output_type": "execute_result"
    }
   ],
   "source": [
    "np.alltrue(error_theoretical < error_bound)"
   ]
  }
 ],
 "metadata": {
  "anaconda-cloud": {},
  "kernelspec": {
   "display_name": "Python [default]",
   "language": "python",
   "name": "python2"
  },
  "language_info": {
   "codemirror_mode": {
    "name": "ipython",
    "version": 2
   },
   "file_extension": ".py",
   "mimetype": "text/x-python",
   "name": "python",
   "nbconvert_exporter": "python",
   "pygments_lexer": "ipython2",
   "version": "2.7.10"
  }
 },
 "nbformat": 4,
 "nbformat_minor": 1
}
