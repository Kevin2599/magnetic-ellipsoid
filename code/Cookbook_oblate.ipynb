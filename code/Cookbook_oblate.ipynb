{
 "cells": [
  {
   "cell_type": "code",
   "execution_count": 6,
   "metadata": {
    "collapsed": false
   },
   "outputs": [],
   "source": [
    "\"\"\"\n",
    "GravMag: 3D forward modeling of total-field magnetic anomaly using oblate\n",
    "ellipsoids (model with isotropic and anisotropic susceptibilities)\n",
    "\"\"\"\n",
    "from fatiando import utils, gridder\n",
    "from fatiando.gravmag import oblate_ellipsoid\n",
    "from fatiando.mesher import OblateEllipsoid\n",
    "from fatiando.vis import mpl\n",
    "\n",
    "# The regional field\n",
    "F, inc, dec = 23500., 30, -15\n",
    "\n",
    "bounds = [-5000, 5000, -5000, 5000, 0, 5000]\n",
    "# Create a model formed by two ellipsoids\n",
    "# The first ellipsoid does not have remanent magnetization and\n",
    "# has an anisotropic susceptibility (k1 = 0.3, k2 = 0.3, k3 = 0.08). \n",
    "# The second has a remanent magnetization of 2 A/m\n",
    "# and an isotropic susceptibility of 0.01\n",
    "model = [OblateEllipsoid(-1500., -2500., 900., 600., 900., 45., 0., 7.,\n",
    "                         {'k': [0.3, 0.2, 0.08, -20., 0., 90.]}),\n",
    "         OblateEllipsoid(2500., 2500., 500., 500., 850., 90., 23., 1.,\n",
    "                         {'remanence': [2, 90., 0.],\n",
    "                          'k': [0.01, 0.01, 0.01, 13., 50., 7.]})]\n",
    "\n",
    "# Create a regular grid at 0m height\n",
    "shape = (200, 200)\n",
    "area = bounds[:4]\n",
    "xp, yp, zp = gridder.regular(area, shape, z = 0)\n",
    "\n",
    "# Calculate the total-field anomaly\n",
    "tf = oblate_ellipsoid.tf(xp, yp, zp, model, F, inc, dec)\n",
    "\n",
    "# Plot\n",
    "mpl.figure()\n",
    "mpl.title(\"Total-field anomaly (nT)\")\n",
    "mpl.axis('scaled')\n",
    "mpl.contourf(yp, xp, tf, shape, 15)\n",
    "mpl.colorbar()\n",
    "mpl.xlabel('East y (km)')\n",
    "mpl.ylabel('North x (km)')\n",
    "mpl.m2km()\n",
    "mpl.show()"
   ]
  },
  {
   "cell_type": "code",
   "execution_count": null,
   "metadata": {
    "collapsed": true
   },
   "outputs": [],
   "source": []
  }
 ],
 "metadata": {
  "anaconda-cloud": {},
  "kernelspec": {
   "display_name": "Python [default]",
   "language": "python",
   "name": "python2"
  },
  "language_info": {
   "codemirror_mode": {
    "name": "ipython",
    "version": 2
   },
   "file_extension": ".py",
   "mimetype": "text/x-python",
   "name": "python",
   "nbconvert_exporter": "python",
   "pygments_lexer": "ipython2",
   "version": "2.7.10"
  }
 },
 "nbformat": 4,
 "nbformat_minor": 1
}
