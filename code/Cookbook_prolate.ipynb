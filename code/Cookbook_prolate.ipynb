{
 "cells": [
  {
   "cell_type": "code",
   "execution_count": 1,
   "metadata": {
    "collapsed": true
   },
   "outputs": [],
   "source": [
    "\"\"\"\n",
    "3D forward modeling of total-field magnetic anomaly using prolate\n",
    "ellipsoids (model with isotropic and anisotropic susceptibilities)\n",
    "\"\"\"\n",
    "# insert the figures in the notebook\n",
    "%matplotlib inline\n",
    "\n",
    "import numpy as np\n",
    "from fatiando import utils, gridder\n",
    "import prolate_ellipsoid\n",
    "from mesher import ProlateEllipsoid\n",
    "\n",
    "from matplotlib import pyplot as plt\n",
    "from matplotlib.ticker import MaxNLocator\n",
    "from matplotlib.colors import BoundaryNorm"
   ]
  },
  {
   "cell_type": "code",
   "execution_count": 2,
   "metadata": {
    "collapsed": true
   },
   "outputs": [],
   "source": [
    "# The regional field\n",
    "F, inc, dec = 23500., 30, -15\n",
    "\n",
    "bounds = [-5000, 5000, -5000, 5000, 0, 5000]\n",
    "# Create a model formed by two ellipsoids\n",
    "# The first ellipsoid does not have remanent magnetization and\n",
    "# has an anisotropic susceptibility (k1 = 0.2, k2 = 0.15, k3 = 0.12). \n",
    "# The second has a remanent magnetization of 2 A/m\n",
    "# and an isotropic susceptibility of 0.01\n",
    "model = [ProlateEllipsoid(0., -2000., 1000., 4000., 500., -29., 0., 0.,\n",
    "                          {'susceptibility tensor': [0.2, 0.15, 0.12, 0., 24., 90.]}),\n",
    "         ProlateEllipsoid(2500., 2500., 1000., 900., 800., 90., -32., 8.,\n",
    "                          {'remanent magnetization': [2, 90., 0.],\n",
    "                           'susceptibility tensor': [0.01, 0.01, 0.01, 34., 18., 87.]})]\n",
    "\n",
    "# Create a regular grid at 0m height\n",
    "shape = (200, 200)\n",
    "area = bounds[:4]\n",
    "xp, yp, zp = gridder.regular(area, shape, z = 0)\n",
    "\n",
    "# Calculate the total-field anomaly\n",
    "tf = prolate_ellipsoid.tf(xp, yp, zp, model, F, inc, dec)"
   ]
  },
  {
   "cell_type": "code",
   "execution_count": 3,
   "metadata": {
    "collapsed": false
   },
   "outputs": [
    {
     "data": {
      "image/png": "[encoded data removed]",
      "text/plain": [
       "<matplotlib.figure.Figure at 0xab3ff28>"
      ]
     },
     "metadata": {},
     "output_type": "display_data"
    }
   ],
   "source": [
    "# Plot the results\n",
    "plt.close('all')\n",
    "plt.figure()\n",
    "plt.axis('scaled')\n",
    "\n",
    "ranges = np.max(np.abs([np.min(tf), np.max(tf)]))\n",
    "levels = MaxNLocator(nbins=20).tick_values(-ranges, ranges)\n",
    "cmap = plt.get_cmap('RdBu_r')\n",
    "norm = BoundaryNorm(levels, ncolors=cmap.N, clip=True)\n",
    "\n",
    "plt.contourf(0.001*yp.reshape(shape), 0.001*xp.reshape(shape),\n",
    "             tf.reshape(shape), levels=levels,\n",
    "             cmap = cmap, norm=norm)\n",
    "plt.ylabel('x (km)')\n",
    "plt.xlabel('y (km)')\n",
    "plt.xlim(0.001*np.min(yp), 0.001*np.max(yp))\n",
    "plt.ylim(0.001*np.min(xp), 0.001*np.max(xp))\n",
    "cbar = plt.colorbar()\n",
    "\n",
    "plt.tight_layout()\n",
    "\n",
    "plt.show()"
   ]
  },
  {
   "cell_type": "code",
   "execution_count": null,
   "metadata": {
    "collapsed": true
   },
   "outputs": [],
   "source": []
  }
 ],
 "metadata": {
  "anaconda-cloud": {},
  "kernelspec": {
   "display_name": "Python [default]",
   "language": "python",
   "name": "python2"
  },
  "language_info": {
   "codemirror_mode": {
    "name": "ipython",
    "version": 2
   },
   "file_extension": ".py",
   "mimetype": "text/x-python",
   "name": "python",
   "nbconvert_exporter": "python",
   "pygments_lexer": "ipython2",
   "version": "2.7.10"
  }
 },
 "nbformat": 4,
 "nbformat_minor": 1
}
