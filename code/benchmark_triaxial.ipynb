{
 "cells": [
  {
   "cell_type": "code",
   "execution_count": 1,
   "metadata": {
    "collapsed": false
   },
   "outputs": [
    {
     "name": "stderr",
     "output_type": "stream",
     "text": [
      "C:\\Users\\Vanderlei\\Documents\\fatiando\\fatiando\\vis\\mpl.py:76: UserWarning: This module will be removed in v0.6. We recommend the use of matplotlib.pyplot module directly. Some of the fatiando specific functions will remain.\n",
      "  \"specific functions will remain.\")\n"
     ]
    },
    {
     "ename": "AttributeError",
     "evalue": "'TriaxialEllipsoid' object has no attribute 'a'",
     "output_type": "error",
     "traceback": [
      "\u001b[1;31m\u001b[0m",
      "\u001b[1;31mAttributeError\u001b[0mTraceback (most recent call last)",
      "\u001b[1;32m<ipython-input-1-f9ceee6f300e>\u001b[0m in \u001b[0;36m<module>\u001b[1;34m()\u001b[0m\n\u001b[0;32m     29\u001b[0m \u001b[1;33m\u001b[0m\u001b[0m\n\u001b[0;32m     30\u001b[0m \u001b[1;31m# Calculate the total-field anomaly\u001b[0m\u001b[1;33m\u001b[0m\u001b[1;33m\u001b[0m\u001b[0m\n\u001b[1;32m---> 31\u001b[1;33m \u001b[0mtf\u001b[0m \u001b[1;33m=\u001b[0m \u001b[0mtriaxial_ellipsoid\u001b[0m\u001b[1;33m.\u001b[0m\u001b[0mtf\u001b[0m\u001b[1;33m(\u001b[0m\u001b[0mxp\u001b[0m\u001b[1;33m,\u001b[0m \u001b[0myp\u001b[0m\u001b[1;33m,\u001b[0m \u001b[0mzp\u001b[0m\u001b[1;33m,\u001b[0m \u001b[0mmodel\u001b[0m\u001b[1;33m,\u001b[0m \u001b[0mF\u001b[0m\u001b[1;33m,\u001b[0m \u001b[0minc\u001b[0m\u001b[1;33m,\u001b[0m \u001b[0mdec\u001b[0m\u001b[1;33m)\u001b[0m\u001b[1;33m\u001b[0m\u001b[0m\n\u001b[0m\u001b[0;32m     32\u001b[0m \u001b[1;33m\u001b[0m\u001b[0m\n\u001b[0;32m     33\u001b[0m \u001b[1;31m# Plot\u001b[0m\u001b[1;33m\u001b[0m\u001b[1;33m\u001b[0m\u001b[0m\n",
      "\u001b[1;32mC:\\Users\\Vanderlei\\Documents\\fatiando\\fatiando\\gravmag\\triaxial_ellipsoid.pyc\u001b[0m in \u001b[0;36mtf\u001b[1;34m(xp, yp, zp, ellipsoids, F, inc, dec, dmag, pmag)\u001b[0m\n",
      "\u001b[1;32mC:\\Users\\Vanderlei\\Documents\\fatiando\\fatiando\\gravmag\\triaxial_ellipsoid.pyc\u001b[0m in \u001b[0;36mbx\u001b[1;34m(xp, yp, zp, ellipsoids, F, inc, dec, dmag, pmag)\u001b[0m\n",
      "\u001b[1;32mC:\\Users\\Vanderlei\\Documents\\fatiando\\fatiando\\gravmag\\triaxial_ellipsoid.pyc\u001b[0m in \u001b[0;36m_bx\u001b[1;34m(xp, yp, zp, ellipsoid, F, inc, dec, dmag, pmag)\u001b[0m\n",
      "\u001b[1;31mAttributeError\u001b[0m: 'TriaxialEllipsoid' object has no attribute 'a'"
     ]
    }
   ],
   "source": [
    "\"\"\"\n",
    "GravMag: 3D forward modeling of total-field magnetic anomaly using triaxial\n",
    "ellipsoids (model with isotropic and anisotropic susceptibilities)\n",
    "\"\"\"\n",
    "from fatiando import utils, gridder\n",
    "from fatiando.gravmag import triaxial_ellipsoid\n",
    "from fatiando.mesher import TriaxialEllipsoid\n",
    "from fatiando.vis import mpl\n",
    "\n",
    "# The regional field\n",
    "F, inc, dec = 23500., 30, -15\n",
    "\n",
    "bounds = [-5000, 5000, -5000, 5000, 0, 5000]\n",
    "# Create a model formed by two ellipsoids\n",
    "# The first ellipsoid does not have remanent magnetization and\n",
    "# has an anisotropic susceptibility (k1 = 0.4, k2 = 0.3, k3 = 0.15). \n",
    "# The second has a remanent magnetization of 2 A/m\n",
    "# and an isotropic susceptibility of 0.01\n",
    "model = [TriaxialEllipsoid(-2500., -2500., 1000., 900., 600., 300., 45., 0., 0.,\n",
    "                           {'k': [0.4, 0.3, 0.15, 0., 90., 90.]}),\n",
    "         TriaxialEllipsoid(2500., 2500., 1000., 950., 640., 600., 90., 0., 0.,\n",
    "                           {'remanence': [2, 90., 0.],\n",
    "                            'k': [0.01, 0.01, 0.01, 34., 82., 18.]})]\n",
    "\n",
    "# Create a regular grid at 0m height\n",
    "shape = (200, 200)\n",
    "area = bounds[:4]\n",
    "xp, yp, zp = gridder.regular(area, shape, z = 0)\n",
    "\n",
    "# Calculate the total-field anomaly\n",
    "tf = triaxial_ellipsoid.tf(xp, yp, zp, model, F, inc, dec)\n",
    "\n",
    "# Plot\n",
    "mpl.figure()\n",
    "mpl.title(\"Total-field anomaly (nT)\")\n",
    "mpl.axis('scaled')\n",
    "mpl.contourf(yp, xp, tf, shape, 15)\n",
    "mpl.colorbar()\n",
    "mpl.xlabel('East y (km)')\n",
    "mpl.ylabel('North x (km)')\n",
    "mpl.m2km()\n",
    "mpl.show()"
   ]
  },
  {
   "cell_type": "code",
   "execution_count": null,
   "metadata": {
    "collapsed": true
   },
   "outputs": [],
   "source": []
  }
 ],
 "metadata": {
  "anaconda-cloud": {},
  "kernelspec": {
   "display_name": "Python [default]",
   "language": "python",
   "name": "python2"
  },
  "language_info": {
   "codemirror_mode": {
    "name": "ipython",
    "version": 2
   },
   "file_extension": ".py",
   "mimetype": "text/x-python",
   "name": "python",
   "nbconvert_exporter": "python",
   "pygments_lexer": "ipython2",
   "version": "2.7.10"
  }
 },
 "nbformat": 4,
 "nbformat_minor": 1
}
