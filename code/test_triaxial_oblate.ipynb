{
 "cells": [
  {
   "cell_type": "markdown",
   "metadata": {},
   "source": [
    "# Comparison between triaxial ellipsoid and oblate ellipsoid"
   ]
  },
  {
   "cell_type": "markdown",
   "metadata": {},
   "source": [
    "### Import the required modules and functions"
   ]
  },
  {
   "cell_type": "code",
   "execution_count": 1,
   "metadata": {
    "collapsed": false
   },
   "outputs": [
    {
     "name": "stderr",
     "output_type": "stream",
     "text": [
      "C:\\Users\\Vanderlei\\Documents\\fatiando\\fatiando\\vis\\mpl.py:76: UserWarning: This module will be removed in v0.6. We recommend the use of matplotlib.pyplot module directly. Some of the fatiando specific functions will remain.\n",
      "  \"specific functions will remain.\")\n"
     ]
    }
   ],
   "source": [
    "%matplotlib inline\n",
    "import numpy as np\n",
    "from matplotlib import pyplot as plt\n",
    "from matplotlib.colors import BoundaryNorm\n",
    "from matplotlib.ticker import MaxNLocator\n",
    "from fatiando import mesher, gridder, utils\n",
    "from fatiando.gravmag import triaxial_ellipsoid, oblate_ellipsoid"
   ]
  },
  {
   "cell_type": "markdown",
   "metadata": {},
   "source": [
    "### Set some parameters for modelling"
   ]
  },
  {
   "cell_type": "code",
   "execution_count": 2,
   "metadata": {
    "collapsed": true
   },
   "outputs": [],
   "source": [
    "# The local-geomagnetic field\n",
    "F, inc, dec = 60000., 50., 20.\n",
    "\n",
    "# boundaries of the study area\n",
    "bounds = [-5000, 5000, -4000, 6000, 0, 5000]\n",
    "\n",
    "# Create a regular grid at 100m height\n",
    "shape = (200, 200)\n",
    "area = bounds[:4]\n",
    "xp, yp, zp = gridder.regular(area, shape, z=0)"
   ]
  },
  {
   "cell_type": "markdown",
   "metadata": {},
   "source": [
    "### Triaxial ellipsoid versus oblate ellipsoid"
   ]
  },
  {
   "cell_type": "markdown",
   "metadata": {},
   "source": [
    "This test compares the total-field anomalies produced by a triaxial ellipsoid with that produced by an oblate ellipsoid. The triaxial ellipsoid has semi-axes $a$, $b$, and $c$ equal to `900 m`, `601 m`, and `599 m`, respectively, and the oblate ellipsoid has semi-axes $a$ and $b$ equal to `600 m` and `900 m`, respectively. Both bodies are centered at the point `(0, 1000, 2000)`."
   ]
  },
  {
   "cell_type": "markdown",
   "metadata": {},
   "source": [
    "##### Triaxial ellipsoid"
   ]
  },
  {
   "cell_type": "code",
   "execution_count": 26,
   "metadata": {
    "collapsed": false
   },
   "outputs": [],
   "source": [
    "triaxial = mesher.TriaxialEllipsoid(0, 1000, 2000,\n",
    "                                    900, 801, 799,\n",
    "                                    180*np.random.rand(), 0, -90 + 180*np.random.rand(),\n",
    "                                    {'remanence': [2, 64, -9],\n",
    "                                     'k': [0.01, 0.01, 0.01, 0, 90, 90]})"
   ]
  },
  {
   "cell_type": "code",
   "execution_count": 27,
   "metadata": {
    "collapsed": true
   },
   "outputs": [],
   "source": [
    "# magnetization\n",
    "\n",
    "V_t = triaxial_ellipsoid.V(triaxial.alpha,\n",
    "                           triaxial.gamma,\n",
    "                           triaxial.delta)\n",
    "n11_t, n22_t, n33_t = triaxial_ellipsoid.demag_factors(triaxial.a,\n",
    "                                                       triaxial.b,\n",
    "                                                       triaxial.c)\n",
    "suscep_t = triaxial_ellipsoid.K(triaxial.props['k'][0],\n",
    "                                triaxial.props['k'][1],\n",
    "                                triaxial.props['k'][2],\n",
    "                                triaxial.props['k'][3],\n",
    "                                triaxial.props['k'][4],\n",
    "                                triaxial.props['k'][5])\n",
    "mag_t = triaxial_ellipsoid.magnetization(n11_t, n22_t, n33_t, suscep_t, F, inc, dec,\n",
    "                                         triaxial.props['remanence'][0],\n",
    "                                         triaxial.props['remanence'][1],\n",
    "                                         triaxial.props['remanence'][2], V_t)"
   ]
  },
  {
   "cell_type": "code",
   "execution_count": 28,
   "metadata": {
    "collapsed": false
   },
   "outputs": [
    {
     "name": "stdout",
     "output_type": "stream",
     "text": [
      "[2.4601390472326758, 61.903941674093794, -1.570296402209352]\n"
     ]
    }
   ],
   "source": [
    "print utils.vec2ang(np.dot(V_t, mag_t))"
   ]
  },
  {
   "cell_type": "markdown",
   "metadata": {},
   "source": [
    "##### Oblate ellipsoid"
   ]
  },
  {
   "cell_type": "code",
   "execution_count": 29,
   "metadata": {
    "collapsed": false
   },
   "outputs": [],
   "source": [
    "oblate = mesher.OblateEllipsoid(0, 1000, 2000,\n",
    "                                800, 900,\n",
    "                                triaxial.alpha, triaxial.delta,\n",
    "                                {'remanence': [2, 64, -9],\n",
    "                                 'k': [0.01, 0.01, 0.01, 0, 90]})"
   ]
  },
  {
   "cell_type": "code",
   "execution_count": 30,
   "metadata": {
    "collapsed": false
   },
   "outputs": [],
   "source": [
    "# magnetization\n",
    "\n",
    "V_o = oblate_ellipsoid.V(oblate.alpha,\n",
    "                         oblate.delta)\n",
    "n11_o, n22_o = oblate_ellipsoid.demag_factors(oblate.a,\n",
    "                                              oblate.b)\n",
    "suscep_o = oblate_ellipsoid.K(oblate.props['k'][0],\n",
    "                              oblate.props['k'][1],\n",
    "                              oblate.props['k'][2],\n",
    "                              oblate.props['k'][3],\n",
    "                              oblate.props['k'][4])\n",
    "mag_o = oblate_ellipsoid.magnetization(n11_o, n22_o, suscep_o, F, inc, dec,\n",
    "                                       oblate.props['remanence'][0],\n",
    "                                       oblate.props['remanence'][1],\n",
    "                                       oblate.props['remanence'][2], V_o)"
   ]
  },
  {
   "cell_type": "code",
   "execution_count": 31,
   "metadata": {
    "collapsed": false
   },
   "outputs": [
    {
     "name": "stdout",
     "output_type": "stream",
     "text": [
      "[2.4603021350512, 61.91359843847129, -1.5794485296891487]\n"
     ]
    }
   ],
   "source": [
    "print utils.vec2ang(np.dot(V_o, mag_o))"
   ]
  },
  {
   "cell_type": "markdown",
   "metadata": {},
   "source": [
    "##### Orientation"
   ]
  },
  {
   "cell_type": "code",
   "execution_count": 32,
   "metadata": {
    "collapsed": false
   },
   "outputs": [
    {
     "data": {
      "text/plain": [
       "True"
      ]
     },
     "execution_count": 32,
     "metadata": {},
     "output_type": "execute_result"
    }
   ],
   "source": [
    "R = np.array([[0, 1, 0],\n",
    "              [1, 0, 0],\n",
    "              [0, 0, -1]])\n",
    "np.allclose(V_t, np.dot(V_o, R))"
   ]
  },
  {
   "cell_type": "markdown",
   "metadata": {},
   "source": [
    "##### Total-field anomalies"
   ]
  },
  {
   "cell_type": "code",
   "execution_count": 33,
   "metadata": {
    "collapsed": false
   },
   "outputs": [],
   "source": [
    "# total-field anomaly produced by the triaxial ellipsoid (in nT)\n",
    "tf_t = triaxial_ellipsoid.tf(xp, yp, zp, [triaxial],\n",
    "                             F, inc, dec)\n",
    "\n",
    "# total-field anomaly produced by the oblate ellipsoid (in nT)\n",
    "tf_o = oblate_ellipsoid.tf(xp, yp, zp, [oblate],\n",
    "                           F, inc, dec)"
   ]
  },
  {
   "cell_type": "code",
   "execution_count": 34,
   "metadata": {
    "collapsed": false
   },
   "outputs": [
    {
     "data": {
      "image/png": "[encoded data removed]",
      "text/plain": [
       "<matplotlib.figure.Figure at 0x190962e8>"
      ]
     },
     "metadata": {},
     "output_type": "display_data"
    }
   ],
   "source": [
    "#plt.figure(figsize=(3.27, 1.5))\n",
    "plt.figure(figsize=(8, 3))\n",
    "plt.axis('scaled')\n",
    "\n",
    "ranges = np.max(np.abs([np.min(tf_t), np.max(tf_t),\n",
    "                        np.min(tf_o), np.max(tf_o)]))\n",
    "levels = MaxNLocator(nbins=20).tick_values(-ranges, ranges)\n",
    "cmap = plt.get_cmap('RdBu_r')\n",
    "norm = BoundaryNorm(levels, ncolors=cmap.N, clip=True)\n",
    "\n",
    "plt.subplot(1,2,1)\n",
    "plt.contourf(0.001*yp.reshape(shape), 0.001*xp.reshape(shape),\n",
    "             tf_t.reshape(shape), levels=levels,\n",
    "             cmap = cmap, norm=norm)\n",
    "plt.ylabel('x (km)', fontsize=8)\n",
    "plt.xticks(fontsize=6)\n",
    "plt.yticks(fontsize=6)\n",
    "plt.xlim(0.001*np.min(yp), 0.001*np.max(yp))\n",
    "plt.ylim(0.001*np.min(xp), 0.001*np.max(xp))\n",
    "cbar = plt.colorbar()\n",
    "plt.annotate(s='(a)', xy=(0.90,0.93), \n",
    "              xycoords = 'axes fraction', color='k',\n",
    "              fontsize=8)\n",
    "plt.subplot(1,2,2)\n",
    "plt.contourf(0.001*yp.reshape(shape), 0.001*xp.reshape(shape),\n",
    "             tf_o.reshape(shape), levels=levels,\n",
    "             cmap = cmap, norm=norm)\n",
    "plt.ylabel('x (km)', fontsize=8)\n",
    "plt.xticks(fontsize=6)\n",
    "plt.yticks(fontsize=6)\n",
    "plt.xlim(0.001*np.min(yp), 0.001*np.max(yp))\n",
    "plt.ylim(0.001*np.min(xp), 0.001*np.max(xp))\n",
    "plt.colorbar()\n",
    "plt.annotate(s='(b)', xy=(0.90,0.93), \n",
    "              xycoords = 'axes fraction', color='k',\n",
    "              fontsize=8)\n",
    "\n",
    "plt.tight_layout()\n",
    "#plt.savefig('..\\\\manuscript\\\\figures\\\\fields_triaxial_sphere.pdf', facecolor='w', bbox_inches='tight')"
   ]
  },
  {
   "cell_type": "markdown",
   "metadata": {},
   "source": [
    "##### Field components"
   ]
  },
  {
   "cell_type": "code",
   "execution_count": 35,
   "metadata": {
    "collapsed": false
   },
   "outputs": [],
   "source": [
    "# field components produced by the triaxial ellipsoid (in nT)\n",
    "bx_t = triaxial_ellipsoid.bx(xp, yp, zp, [triaxial],\n",
    "                             F, inc, dec)\n",
    "by_t = triaxial_ellipsoid.by(xp, yp, zp, [triaxial],\n",
    "                             F, inc, dec)\n",
    "bz_t = triaxial_ellipsoid.bz(xp, yp, zp, [triaxial],\n",
    "                             F, inc, dec)\n",
    "\n",
    "# field components produced by the oblate ellipsoid (in nT)\n",
    "bx_o = oblate_ellipsoid.bx(xp, yp, zp, [oblate],\n",
    "                           F, inc, dec)\n",
    "by_o = oblate_ellipsoid.by(xp, yp, zp, [oblate],\n",
    "                           F, inc, dec)\n",
    "bz_o = oblate_ellipsoid.bz(xp, yp, zp, [oblate],\n",
    "                           F, inc, dec)"
   ]
  },
  {
   "cell_type": "code",
   "execution_count": 36,
   "metadata": {
    "collapsed": false
   },
   "outputs": [
    {
     "data": {
      "image/png": "[encoded data removed]",
      "text/plain": [
       "<matplotlib.figure.Figure at 0x16736b70>"
      ]
     },
     "metadata": {},
     "output_type": "display_data"
    }
   ],
   "source": [
    "#plt.figure(figsize=(3.27, 1.5))\n",
    "plt.figure(figsize=(8, 9))\n",
    "plt.axis('scaled')\n",
    "\n",
    "ranges = np.max(np.abs([np.min(bx_t), np.max(bx_t),\n",
    "                        np.min(bx_o), np.max(bx_o)]))\n",
    "levels = MaxNLocator(nbins=20).tick_values(-ranges, ranges)\n",
    "cmap = plt.get_cmap('RdBu_r')\n",
    "norm = BoundaryNorm(levels, ncolors=cmap.N, clip=True)\n",
    "\n",
    "plt.subplot(3,2,1)\n",
    "plt.contourf(0.001*yp.reshape(shape), 0.001*xp.reshape(shape),\n",
    "             bx_t.reshape(shape), levels=levels,\n",
    "             cmap = cmap, norm=norm)\n",
    "plt.ylabel('x (km)', fontsize=8)\n",
    "plt.xticks(fontsize=6)\n",
    "plt.yticks(fontsize=6)\n",
    "plt.xlim(0.001*np.min(yp), 0.001*np.max(yp))\n",
    "plt.ylim(0.001*np.min(xp), 0.001*np.max(xp))\n",
    "cbar = plt.colorbar()\n",
    "plt.annotate(s='(a)', xy=(0.90,0.93), \n",
    "              xycoords = 'axes fraction', color='k',\n",
    "              fontsize=8)\n",
    "plt.subplot(3,2,2)\n",
    "plt.contourf(0.001*yp.reshape(shape), 0.001*xp.reshape(shape),\n",
    "             bx_o.reshape(shape), levels=levels,\n",
    "             cmap = cmap, norm=norm)\n",
    "plt.ylabel('x (km)', fontsize=8)\n",
    "plt.xticks(fontsize=6)\n",
    "plt.yticks(fontsize=6)\n",
    "plt.xlim(0.001*np.min(yp), 0.001*np.max(yp))\n",
    "plt.ylim(0.001*np.min(xp), 0.001*np.max(xp))\n",
    "plt.colorbar()\n",
    "plt.annotate(s='(b)', xy=(0.90,0.93), \n",
    "              xycoords = 'axes fraction', color='k',\n",
    "              fontsize=8)\n",
    "\n",
    "ranges = np.max(np.abs([np.min(by_t), np.max(by_t),\n",
    "                        np.min(by_o), np.max(by_o)]))\n",
    "levels = MaxNLocator(nbins=20).tick_values(-ranges, ranges)\n",
    "cmap = plt.get_cmap('RdBu_r')\n",
    "norm = BoundaryNorm(levels, ncolors=cmap.N, clip=True)\n",
    "\n",
    "plt.subplot(3,2,3)\n",
    "plt.contourf(0.001*yp.reshape(shape), 0.001*xp.reshape(shape),\n",
    "             by_t.reshape(shape), levels=levels,\n",
    "             cmap = cmap, norm=norm)\n",
    "plt.ylabel('x (km)', fontsize=8)\n",
    "plt.xticks(fontsize=6)\n",
    "plt.yticks(fontsize=6)\n",
    "plt.xlim(0.001*np.min(yp), 0.001*np.max(yp))\n",
    "plt.ylim(0.001*np.min(xp), 0.001*np.max(xp))\n",
    "cbar = plt.colorbar()\n",
    "plt.annotate(s='(c)', xy=(0.90,0.93), \n",
    "              xycoords = 'axes fraction', color='k',\n",
    "              fontsize=8)\n",
    "plt.subplot(3,2,4)\n",
    "plt.contourf(0.001*yp.reshape(shape), 0.001*xp.reshape(shape),\n",
    "             by_o.reshape(shape), levels=levels,\n",
    "             cmap = cmap, norm=norm)\n",
    "plt.ylabel('x (km)', fontsize=8)\n",
    "plt.xticks(fontsize=6)\n",
    "plt.yticks(fontsize=6)\n",
    "plt.xlim(0.001*np.min(yp), 0.001*np.max(yp))\n",
    "plt.ylim(0.001*np.min(xp), 0.001*np.max(xp))\n",
    "plt.colorbar()\n",
    "plt.annotate(s='(d)', xy=(0.90,0.93), \n",
    "              xycoords = 'axes fraction', color='k',\n",
    "              fontsize=8)\n",
    "\n",
    "ranges = np.max(np.abs([np.min(bz_t), np.max(bz_t),\n",
    "                        np.min(bz_o), np.max(bz_o)]))\n",
    "levels = MaxNLocator(nbins=20).tick_values(-ranges, ranges)\n",
    "cmap = plt.get_cmap('RdBu_r')\n",
    "norm = BoundaryNorm(levels, ncolors=cmap.N, clip=True)\n",
    "\n",
    "plt.subplot(3,2,5)\n",
    "plt.contourf(0.001*yp.reshape(shape), 0.001*xp.reshape(shape),\n",
    "             bz_t.reshape(shape), levels=levels,\n",
    "             cmap = cmap, norm=norm)\n",
    "plt.ylabel('x (km)', fontsize=8)\n",
    "plt.xticks(fontsize=6)\n",
    "plt.yticks(fontsize=6)\n",
    "plt.xlim(0.001*np.min(yp), 0.001*np.max(yp))\n",
    "plt.ylim(0.001*np.min(xp), 0.001*np.max(xp))\n",
    "cbar = plt.colorbar()\n",
    "plt.annotate(s='(e)', xy=(0.90,0.93), \n",
    "              xycoords = 'axes fraction', color='k',\n",
    "              fontsize=8)\n",
    "plt.subplot(3,2,6)\n",
    "plt.contourf(0.001*yp.reshape(shape), 0.001*xp.reshape(shape),\n",
    "             bz_o.reshape(shape), levels=levels,\n",
    "             cmap = cmap, norm=norm)\n",
    "plt.ylabel('x (km)', fontsize=8)\n",
    "plt.xticks(fontsize=6)\n",
    "plt.yticks(fontsize=6)\n",
    "plt.xlim(0.001*np.min(yp), 0.001*np.max(yp))\n",
    "plt.ylim(0.001*np.min(xp), 0.001*np.max(xp))\n",
    "plt.colorbar()\n",
    "plt.annotate(s='(f)', xy=(0.90,0.93), \n",
    "              xycoords = 'axes fraction', color='k',\n",
    "              fontsize=8)\n",
    "\n",
    "plt.tight_layout()\n",
    "#plt.savefig('..\\\\manuscript\\\\figures\\\\fields_triaxial_sphere.pdf', facecolor='w', bbox_inches='tight')"
   ]
  },
  {
   "cell_type": "code",
   "execution_count": null,
   "metadata": {
    "collapsed": true
   },
   "outputs": [],
   "source": []
  }
 ],
 "metadata": {
  "anaconda-cloud": {},
  "kernelspec": {
   "display_name": "Python [default]",
   "language": "python",
   "name": "python2"
  },
  "language_info": {
   "codemirror_mode": {
    "name": "ipython",
    "version": 2
   },
   "file_extension": ".py",
   "mimetype": "text/x-python",
   "name": "python",
   "nbconvert_exporter": "python",
   "pygments_lexer": "ipython2",
   "version": "2.7.10"
  }
 },
 "nbformat": 4,
 "nbformat_minor": 1
}
