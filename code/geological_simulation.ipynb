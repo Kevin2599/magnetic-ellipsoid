{
 "cells": [
  {
   "cell_type": "markdown",
   "metadata": {},
   "source": [
    "# Impact of neglecting the self-demagnetization"
   ]
  },
  {
   "cell_type": "markdown",
   "metadata": {},
   "source": [
    "### Import the required modules"
   ]
  },
  {
   "cell_type": "code",
   "execution_count": 1,
   "metadata": {
    "collapsed": false
   },
   "outputs": [
    {
     "name": "stderr",
     "output_type": "stream",
     "text": [
      "C:\\Users\\Vanderlei\\Documents\\fatiando\\fatiando\\vis\\mpl.py:76: UserWarning: This module will be removed in v0.6. We recommend the use of matplotlib.pyplot module directly. Some of the fatiando specific functions will remain.\n",
      "  \"specific functions will remain.\")\n"
     ]
    }
   ],
   "source": [
    "%matplotlib inline\n",
    "import numpy as np\n",
    "from numpy.random import rand\n",
    "from matplotlib.ticker import MaxNLocator\n",
    "from matplotlib import pyplot as plt\n",
    "from matplotlib.colors import Normalize, BoundaryNorm\n",
    "from matplotlib.colorbar import ColorbarBase\n",
    "from matplotlib.cm import get_cmap\n",
    "from fatiando import mesher, utils, gridder\n",
    "from fatiando.gravmag import triaxial_ellipsoid"
   ]
  },
  {
   "cell_type": "code",
   "execution_count": 2,
   "metadata": {
    "collapsed": true
   },
   "outputs": [],
   "source": [
    "# Set some plot parameters\n",
    "from matplotlib import rcParams\n",
    "rcParams['figure.dpi'] = 300.\n",
    "rcParams['font.size'] = 6\n",
    "rcParams['xtick.labelsize'] = 'medium'\n",
    "rcParams['ytick.labelsize'] = 'medium'\n",
    "rcParams['axes.labelsize'] = 'large'\n",
    "rcParams['legend.fontsize'] = 'medium'\n",
    "rcParams['savefig.dpi'] = 300."
   ]
  },
  {
   "cell_type": "markdown",
   "metadata": {},
   "source": [
    "### Warrego magnetite body"
   ]
  },
  {
   "cell_type": "code",
   "execution_count": 3,
   "metadata": {
    "collapsed": true
   },
   "outputs": [],
   "source": [
    "# semi-axes (in m)\n",
    "a = 490.7\n",
    "b = 69.7\n",
    "c = 30.\n",
    "\n",
    "n11, n22, n33 = triaxial_ellipsoid.demag_factors(a, b, c)"
   ]
  },
  {
   "cell_type": "code",
   "execution_count": 4,
   "metadata": {
    "collapsed": false
   },
   "outputs": [
    {
     "name": "stdout",
     "output_type": "stream",
     "text": [
      "0.0175129101631 0.292966215389 0.689520874448\n"
     ]
    }
   ],
   "source": [
    "print n11, n22, n33"
   ]
  },
  {
   "cell_type": "code",
   "execution_count": 5,
   "metadata": {
    "collapsed": false
   },
   "outputs": [
    {
     "name": "stdout",
     "output_type": "stream",
     "text": [
      "1.0\n"
     ]
    }
   ],
   "source": [
    "print n11+n22+n33"
   ]
  },
  {
   "cell_type": "code",
   "execution_count": 6,
   "metadata": {
    "collapsed": false
   },
   "outputs": [],
   "source": [
    "# isotropic susceptibility (in SI)\n",
    "chi_true = 1.690"
   ]
  },
  {
   "cell_type": "code",
   "execution_count": 7,
   "metadata": {
    "collapsed": true
   },
   "outputs": [],
   "source": [
    "# depth to center (in meter)\n",
    "zc = 500."
   ]
  },
  {
   "cell_type": "markdown",
   "metadata": {},
   "source": [
    "### Orientation angles ($^{\\circ}$)"
   ]
  },
  {
   "cell_type": "code",
   "execution_count": 8,
   "metadata": {
    "collapsed": true
   },
   "outputs": [],
   "source": [
    "#strike = 326. - 360.\n",
    "strike = -34.\n",
    "dip = 66.1\n",
    "rake = 45.\n",
    "\n",
    "alpha, gamma, delta = triaxial_ellipsoid.structural_angles(strike, dip, rake)\n",
    "V = triaxial_ellipsoid.V(alpha, gamma, delta)"
   ]
  },
  {
   "cell_type": "markdown",
   "metadata": {},
   "source": [
    "### Local-geomagnetic field (nT)"
   ]
  },
  {
   "cell_type": "code",
   "execution_count": 9,
   "metadata": {
    "collapsed": true
   },
   "outputs": [],
   "source": [
    "F_xyz = np.array([32610., 0., 39450.])\n",
    "F, inc, dec = utils.vec2ang(F_xyz)"
   ]
  },
  {
   "cell_type": "code",
   "execution_count": 10,
   "metadata": {
    "collapsed": false
   },
   "outputs": [
    {
     "name": "stdout",
     "output_type": "stream",
     "text": [
      "51183.1476172 50.4223208627 0.0\n"
     ]
    }
   ],
   "source": [
    "print F, inc, dec"
   ]
  },
  {
   "cell_type": "code",
   "execution_count": 11,
   "metadata": {
    "collapsed": true
   },
   "outputs": [],
   "source": [
    "F_local = np.dot(V.T, F_xyz)"
   ]
  },
  {
   "cell_type": "code",
   "execution_count": 12,
   "metadata": {
    "collapsed": false
   },
   "outputs": [
    {
     "name": "stdout",
     "output_type": "stream",
     "text": [
      "[-39396.00407387  -1162.86028241 -32654.51299553]\n"
     ]
    }
   ],
   "source": [
    "print F_local"
   ]
  },
  {
   "cell_type": "markdown",
   "metadata": {},
   "source": [
    "### Observation points (m)"
   ]
  },
  {
   "cell_type": "code",
   "execution_count": 13,
   "metadata": {
    "collapsed": true
   },
   "outputs": [],
   "source": [
    "area = [-2000., 2000., -2000., 2000.]\n",
    "shape = (100, 100)\n",
    "xp, yp, zp = gridder.regular(area, shape, z = 0.)"
   ]
  },
  {
   "cell_type": "markdown",
   "metadata": {},
   "source": [
    "### Total-field anomaly (nT)"
   ]
  },
  {
   "cell_type": "markdown",
   "metadata": {},
   "source": [
    "### $\\chi = \\chi_{true}$"
   ]
  },
  {
   "cell_type": "code",
   "execution_count": 14,
   "metadata": {
    "collapsed": false
   },
   "outputs": [
    {
     "name": "stdout",
     "output_type": "stream",
     "text": [
      "epsilon = 42.820 percent\n"
     ]
    }
   ],
   "source": [
    "# true magnetization in the main system\n",
    "mag_true = triaxial_ellipsoid.magnetization(chi_true*np.identity(3),\n",
    "                                            F, inc, dec, 0., 0., 0., V,\n",
    "                                            axes = [a, b, c])\n",
    "\n",
    "# approximated magnetization\n",
    "mag_true_approx = triaxial_ellipsoid.magnetization(chi_true*np.identity(3),\n",
    "                                            F, inc, dec, 0., 0., 0., V,\n",
    "                                            axes = None)\n",
    "\n",
    "# relative error\n",
    "mag_true_norm = np.linalg.norm(mag_true, ord = 2)\n",
    "mag_true_approx_norm = np.linalg.norm(mag_true_approx, ord = 2)\n",
    "delta_mag_true_norm = np.linalg.norm(mag_true - mag_true_approx, ord = 2)\n",
    "epsilon_true = delta_mag_true_norm/mag_true_norm\n",
    "\n",
    "print 'epsilon = %.3f percent' % (epsilon_true*100)"
   ]
  },
  {
   "cell_type": "code",
   "execution_count": 15,
   "metadata": {
    "collapsed": false
   },
   "outputs": [
    {
     "name": "stdout",
     "output_type": "stream",
     "text": [
      "[ 31.51080683 -17.03128515  42.16016565] 55.3215616992\n"
     ]
    }
   ],
   "source": [
    "print mag_true, mag_true_norm"
   ]
  },
  {
   "cell_type": "code",
   "execution_count": 16,
   "metadata": {
    "collapsed": false
   },
   "outputs": [
    {
     "name": "stdout",
     "output_type": "stream",
     "text": [
      "[ 43.85586077   0.          53.05469817] 68.834130496\n"
     ]
    }
   ],
   "source": [
    "print mag_true_approx, mag_true_approx_norm"
   ]
  },
  {
   "cell_type": "code",
   "execution_count": 17,
   "metadata": {
    "collapsed": false
   },
   "outputs": [
    {
     "data": {
      "text/plain": [
       "True"
      ]
     },
     "execution_count": 17,
     "metadata": {},
     "output_type": "execute_result"
    }
   ],
   "source": [
    "np.allclose(mag_true_approx, chi_true*(F/(4*np.pi*100))*utils.ang2vec(1., inc, dec))"
   ]
  },
  {
   "cell_type": "code",
   "execution_count": 18,
   "metadata": {
    "collapsed": false
   },
   "outputs": [],
   "source": [
    "model_true = [mesher.TriaxialEllipsoid(0., 0., zc, a, b, c, strike, dip, rake,\n",
    "                                       props = {'k': [chi_true, chi_true, chi_true, 0., 0., 0.]})]"
   ]
  },
  {
   "cell_type": "code",
   "execution_count": 19,
   "metadata": {
    "collapsed": false
   },
   "outputs": [],
   "source": [
    "tf_true = triaxial_ellipsoid.tf(xp, yp, zp, model_true, F, inc, dec)"
   ]
  },
  {
   "cell_type": "code",
   "execution_count": 20,
   "metadata": {
    "collapsed": false
   },
   "outputs": [
    {
     "data": {
      "image/png": "[encoded data removed]",
      "text/plain": [
       "<matplotlib.figure.Figure at 0xabd6518>"
      ]
     },
     "metadata": {},
     "output_type": "display_data"
    }
   ],
   "source": [
    "plt.figure(figsize=(3.15, 7./3))\n",
    "plt.axis('scaled')\n",
    "\n",
    "ranges = np.max(np.abs([np.min(tf_true), np.max(tf_true)]))\n",
    "levels = MaxNLocator(nbins=20).tick_values(-ranges, ranges)\n",
    "cmap = plt.get_cmap('RdBu_r')\n",
    "norm = BoundaryNorm(levels, ncolors=cmap.N, clip=True)\n",
    "\n",
    "plt.contourf(0.001*yp.reshape(shape), 0.001*xp.reshape(shape),\n",
    "             tf_true.reshape(shape), levels=levels,\n",
    "             cmap = cmap, norm=norm)\n",
    "plt.ylabel('x (km)')\n",
    "plt.xlabel('y (km)')\n",
    "plt.xlim(0.001*np.min(yp), 0.001*np.max(yp))\n",
    "plt.ylim(0.001*np.min(xp), 0.001*np.max(xp))\n",
    "cbar = plt.colorbar()\n",
    "\n",
    "plt.tight_layout()\n",
    "plt.savefig('..\\\\manuscript\\\\figures\\\\total-field_anomaly.pdf', facecolor='w', bbox_inches='tight')\n",
    "\n",
    "plt.show()"
   ]
  },
  {
   "cell_type": "code",
   "execution_count": 21,
   "metadata": {
    "collapsed": false
   },
   "outputs": [
    {
     "name": "stdout",
     "output_type": "stream",
     "text": [
      "max = 149.551\n",
      "min = -295.292\n",
      "peak-to-peak amplitude = 444.843\n"
     ]
    }
   ],
   "source": [
    "print 'max = %.3f' % (tf_true.max())\n",
    "print 'min = %.3f' % (tf_true.min())\n",
    "print 'peak-to-peak amplitude = %.3f' % (tf_true.max() - tf_true.min())"
   ]
  },
  {
   "cell_type": "code",
   "execution_count": 22,
   "metadata": {
    "collapsed": false
   },
   "outputs": [],
   "source": [
    "tf_true_approx = triaxial_ellipsoid.tf(xp, yp, zp, model_true, F, inc, dec,\n",
    "                                       dmag = False)"
   ]
  },
  {
   "cell_type": "code",
   "execution_count": 23,
   "metadata": {
    "collapsed": true
   },
   "outputs": [],
   "source": [
    "residuals_true = tf_true_approx - tf_true"
   ]
  },
  {
   "cell_type": "code",
   "execution_count": 24,
   "metadata": {
    "collapsed": false
   },
   "outputs": [
    {
     "name": "stdout",
     "output_type": "stream",
     "text": [
      "residuals min  = -197.095\n",
      "residuals mean = -1.275\n",
      "residuals max  = 14.992\n"
     ]
    }
   ],
   "source": [
    "print 'residuals min  = %.3f' % (residuals_true.min())\n",
    "print 'residuals mean = %.3f' % (residuals_true.mean())\n",
    "print 'residuals max  = %.3f' % (residuals_true.max())"
   ]
  },
  {
   "cell_type": "code",
   "execution_count": 25,
   "metadata": {
    "collapsed": false
   },
   "outputs": [],
   "source": [
    "misfit_true = np.sum(residuals_true*residuals_true)/residuals_true.size"
   ]
  },
  {
   "cell_type": "code",
   "execution_count": 26,
   "metadata": {
    "collapsed": false
   },
   "outputs": [
    {
     "name": "stdout",
     "output_type": "stream",
     "text": [
      "misfit = 241.058\n"
     ]
    }
   ],
   "source": [
    "print 'misfit = %.3f' % misfit_true"
   ]
  },
  {
   "cell_type": "code",
   "execution_count": 27,
   "metadata": {
    "collapsed": false
   },
   "outputs": [
    {
     "name": "stdout",
     "output_type": "stream",
     "text": [
      "peak-to-peak field amplitude = 212.087 absolute\n"
     ]
    }
   ],
   "source": [
    "print 'peak-to-peak field amplitude = %.3f absolute' % \\\n",
    "(residuals_true.max() - residuals_true.min())"
   ]
  },
  {
   "cell_type": "code",
   "execution_count": 28,
   "metadata": {
    "collapsed": false
   },
   "outputs": [
    {
     "name": "stdout",
     "output_type": "stream",
     "text": [
      "peak-to-peak field amplitude = 47.677 percent\n"
     ]
    }
   ],
   "source": [
    "print 'peak-to-peak field amplitude = %.3f percent' % \\\n",
    "(100*(residuals_true.max() - residuals_true.min())/(tf_true.max() - tf_true.min()))"
   ]
  },
  {
   "cell_type": "markdown",
   "metadata": {},
   "source": [
    "### $\\chi = 0.1$"
   ]
  },
  {
   "cell_type": "code",
   "execution_count": 29,
   "metadata": {
    "collapsed": false
   },
   "outputs": [
    {
     "name": "stdout",
     "output_type": "stream",
     "text": [
      "epsilon = 4.232 percent\n"
     ]
    }
   ],
   "source": [
    "# isotropic susceptibility commonly used as an upper limit\n",
    "# to neglect the self-demagnetization\n",
    "chi_usual = 0.1\n",
    "\n",
    "# true magnetization in the main system\n",
    "mag_usual = triaxial_ellipsoid.magnetization(chi_usual*np.identity(3),\n",
    "                                             F, inc, dec, 0., 0., 0., V,\n",
    "                                             axes = [a, b, c])\n",
    "\n",
    "# approximated magnetization\n",
    "mag_usual_approx = triaxial_ellipsoid.magnetization(chi_usual*np.identity(3),\n",
    "                                                    F, inc, dec, 0., 0., 0., V,\n",
    "                                                    axes = None)\n",
    "\n",
    "# relative error\n",
    "mag_usual_norm = np.linalg.norm(mag_usual, ord = 2)\n",
    "mag_usual_approx_norm = np.linalg.norm(mag_usual_approx, ord = 2)\n",
    "delta_mag_usual_norm = np.linalg.norm(mag_usual - mag_usual_approx, ord = 2)\n",
    "epsilon_usual = delta_mag_usual_norm/mag_usual_norm\n",
    "\n",
    "print 'epsilon = %.3f percent' % (epsilon_usual*100)"
   ]
  },
  {
   "cell_type": "code",
   "execution_count": 30,
   "metadata": {
    "collapsed": false
   },
   "outputs": [
    {
     "name": "stdout",
     "output_type": "stream",
     "text": [
      "[ 2.50895827 -0.12399384  3.06617603] 3.96379634975\n"
     ]
    }
   ],
   "source": [
    "print mag_usual, mag_usual_norm"
   ]
  },
  {
   "cell_type": "code",
   "execution_count": 31,
   "metadata": {
    "collapsed": false
   },
   "outputs": [
    {
     "name": "stdout",
     "output_type": "stream",
     "text": [
      "[ 2.59502135  0.          3.13933125] 4.07302547314\n"
     ]
    }
   ],
   "source": [
    "print mag_usual_approx, mag_usual_approx_norm"
   ]
  },
  {
   "cell_type": "code",
   "execution_count": 32,
   "metadata": {
    "collapsed": false
   },
   "outputs": [
    {
     "data": {
      "text/plain": [
       "True"
      ]
     },
     "execution_count": 32,
     "metadata": {},
     "output_type": "execute_result"
    }
   ],
   "source": [
    "np.allclose(mag_usual_approx, chi_usual*(F/(4*np.pi*100))*utils.ang2vec(1., inc, dec))"
   ]
  },
  {
   "cell_type": "code",
   "execution_count": 33,
   "metadata": {
    "collapsed": true
   },
   "outputs": [],
   "source": [
    "model_usual = [mesher.TriaxialEllipsoid(0., 0., zc, a, b, c, strike, dip, rake,\n",
    "                                        props = {'k': [chi_usual, chi_usual, chi_usual, 0., 0., 0.]})]"
   ]
  },
  {
   "cell_type": "code",
   "execution_count": 34,
   "metadata": {
    "collapsed": true
   },
   "outputs": [],
   "source": [
    "tf_usual = triaxial_ellipsoid.tf(xp, yp, zp, model_usual, F, inc, dec)"
   ]
  },
  {
   "cell_type": "code",
   "execution_count": 35,
   "metadata": {
    "collapsed": false
   },
   "outputs": [],
   "source": [
    "tf_usual_approx = triaxial_ellipsoid.tf(xp, yp, zp, model_usual, F, inc, dec,\n",
    "                                        dmag = False)"
   ]
  },
  {
   "cell_type": "code",
   "execution_count": 36,
   "metadata": {
    "collapsed": false
   },
   "outputs": [],
   "source": [
    "residuals_usual = tf_usual_approx - tf_usual"
   ]
  },
  {
   "cell_type": "code",
   "execution_count": 37,
   "metadata": {
    "collapsed": false
   },
   "outputs": [
    {
     "name": "stdout",
     "output_type": "stream",
     "text": [
      "residuals min  = -1.397\n",
      "residuals mean = -0.009\n",
      "residuals max  = 0.101\n"
     ]
    }
   ],
   "source": [
    "print 'residuals min  = %.3f' % (residuals_usual.min())\n",
    "print 'residuals mean = %.3f' % (residuals_usual.mean())\n",
    "print 'residuals max  = %.3f' % (residuals_usual.max())"
   ]
  },
  {
   "cell_type": "code",
   "execution_count": 38,
   "metadata": {
    "collapsed": false
   },
   "outputs": [],
   "source": [
    "misfit_usual = np.sum(residuals_usual*residuals_usual)/residuals_usual.size"
   ]
  },
  {
   "cell_type": "code",
   "execution_count": 39,
   "metadata": {
    "collapsed": false
   },
   "outputs": [
    {
     "name": "stdout",
     "output_type": "stream",
     "text": [
      "misfit = 0.012\n"
     ]
    }
   ],
   "source": [
    "print 'misfit = %.3f' % misfit_usual"
   ]
  },
  {
   "cell_type": "code",
   "execution_count": 40,
   "metadata": {
    "collapsed": false
   },
   "outputs": [
    {
     "name": "stdout",
     "output_type": "stream",
     "text": [
      "peak-to-peak field amplitude = 1.498 absolute\n"
     ]
    }
   ],
   "source": [
    "print 'peak-to-peak field amplitude = %.3f absolute' % \\\n",
    "(residuals_usual.max() - residuals_usual.min())"
   ]
  },
  {
   "cell_type": "code",
   "execution_count": 41,
   "metadata": {
    "collapsed": false
   },
   "outputs": [
    {
     "name": "stdout",
     "output_type": "stream",
     "text": [
      "peak-to-peak field amplitude = 4.458 percent\n"
     ]
    }
   ],
   "source": [
    "print 'peak-to-peak field amplitude = %.3f percent' % \\\n",
    "(100*(residuals_usual.max() - residuals_usual.min())/(tf_usual.max() - tf_usual.min()))"
   ]
  },
  {
   "cell_type": "markdown",
   "metadata": {},
   "source": [
    "### $\\chi = \\chi_{max}$"
   ]
  },
  {
   "cell_type": "code",
   "execution_count": 42,
   "metadata": {
    "collapsed": false
   },
   "outputs": [
    {
     "name": "stdout",
     "output_type": "stream",
     "text": [
      "chi_max = 0.116 SI\n",
      "epsilon = 4.879 percent\n"
     ]
    }
   ],
   "source": [
    "# proposed upper maximum isotropic susceptibility\n",
    "# to guarantee a relative error lower than or equal to epsilon\n",
    "#epsilon_max = 0.07 # this epsilon generates a misfit similar \n",
    "                   # to that obtained by using the usual chi = 0.1\n",
    "epsilon_max = 0.08\n",
    "chi_max = epsilon_max/n33\n",
    "\n",
    "print 'chi_max = %.3f SI' % chi_max\n",
    "\n",
    "# true magnetization in the main system\n",
    "mag_max = triaxial_ellipsoid.magnetization(chi_max*np.identity(3),\n",
    "                                           F, inc, dec, 0., 0., 0., V,\n",
    "                                           axes = [a, b, c])\n",
    "\n",
    "# approximated magnetization\n",
    "mag_max_approx = triaxial_ellipsoid.magnetization(chi_max*np.identity(3),\n",
    "                                                  F, inc, dec, 0., 0., 0., V,\n",
    "                                                  axes = None)\n",
    "\n",
    "# relative error\n",
    "mag_max_norm = np.linalg.norm(mag_max, ord = 2)\n",
    "mag_max_approx_norm = np.linalg.norm(mag_max_approx, ord = 2)\n",
    "delta_mag_max_norm = np.linalg.norm(mag_max - mag_max_approx, ord = 2)\n",
    "\n",
    "epsilon_calculated = delta_mag_max_norm/mag_max_norm\n",
    "\n",
    "print 'epsilon = %.3f percent' % (epsilon_calculated*100)"
   ]
  },
  {
   "cell_type": "code",
   "execution_count": 43,
   "metadata": {
    "collapsed": false
   },
   "outputs": [
    {
     "name": "stdout",
     "output_type": "stream",
     "text": [
      "[ 2.89612836 -0.16516041  3.54480438] 4.58044491011\n"
     ]
    }
   ],
   "source": [
    "print mag_max, mag_max_norm"
   ]
  },
  {
   "cell_type": "code",
   "execution_count": 44,
   "metadata": {
    "collapsed": false
   },
   "outputs": [
    {
     "name": "stdout",
     "output_type": "stream",
     "text": [
      "[ 3.01081106  0.          3.64233353] 4.72562978042\n"
     ]
    }
   ],
   "source": [
    "print mag_max_approx, mag_max_approx_norm"
   ]
  },
  {
   "cell_type": "code",
   "execution_count": 45,
   "metadata": {
    "collapsed": false
   },
   "outputs": [
    {
     "data": {
      "text/plain": [
       "True"
      ]
     },
     "execution_count": 45,
     "metadata": {},
     "output_type": "execute_result"
    }
   ],
   "source": [
    "np.allclose(mag_max_approx, chi_max*(F/(4*np.pi*100))*utils.ang2vec(1., inc, dec))"
   ]
  },
  {
   "cell_type": "code",
   "execution_count": 46,
   "metadata": {
    "collapsed": true
   },
   "outputs": [],
   "source": [
    "model_max = [mesher.TriaxialEllipsoid(0., 0., zc, a, b, c, strike, dip, rake,\n",
    "                                      props = {'k': [chi_max, chi_max, chi_max, 0., 0., 0.]})]"
   ]
  },
  {
   "cell_type": "code",
   "execution_count": 47,
   "metadata": {
    "collapsed": true
   },
   "outputs": [],
   "source": [
    "tf_max = triaxial_ellipsoid.tf(xp, yp, zp, model_max, F, inc, dec)"
   ]
  },
  {
   "cell_type": "code",
   "execution_count": 48,
   "metadata": {
    "collapsed": false
   },
   "outputs": [],
   "source": [
    "tf_max_approx = triaxial_ellipsoid.tf(xp, yp, zp, model_max, F, inc, dec,\n",
    "                                      dmag = False)"
   ]
  },
  {
   "cell_type": "code",
   "execution_count": 49,
   "metadata": {
    "collapsed": false
   },
   "outputs": [],
   "source": [
    "residuals_max = tf_max_approx - tf_max"
   ]
  },
  {
   "cell_type": "code",
   "execution_count": 50,
   "metadata": {
    "collapsed": false
   },
   "outputs": [
    {
     "name": "stdout",
     "output_type": "stream",
     "text": [
      "residuals min  = -1.861\n",
      "residuals mean = -0.012\n",
      "residuals max  = 0.135\n"
     ]
    }
   ],
   "source": [
    "print 'residuals min  = %.3f' % (residuals_max.min())\n",
    "print 'residuals mean = %.3f' % (residuals_max.mean())\n",
    "print 'residuals max  = %.3f' % (residuals_max.max())"
   ]
  },
  {
   "cell_type": "code",
   "execution_count": 51,
   "metadata": {
    "collapsed": false
   },
   "outputs": [],
   "source": [
    "misfit_max = np.sum(residuals_max*residuals_max)/residuals_max.size"
   ]
  },
  {
   "cell_type": "code",
   "execution_count": 52,
   "metadata": {
    "collapsed": false
   },
   "outputs": [
    {
     "name": "stdout",
     "output_type": "stream",
     "text": [
      "misfit = 0.021\n"
     ]
    }
   ],
   "source": [
    "print 'misfit = %.3f' % misfit_max"
   ]
  },
  {
   "cell_type": "code",
   "execution_count": 53,
   "metadata": {
    "collapsed": false
   },
   "outputs": [
    {
     "name": "stdout",
     "output_type": "stream",
     "text": [
      "peak-to-peak field amplitude = 1.996 absolute\n"
     ]
    }
   ],
   "source": [
    "print 'peak-to-peak field amplitude = %.3f absolute' % \\\n",
    "(residuals_max.max() - residuals_max.min())"
   ]
  },
  {
   "cell_type": "code",
   "execution_count": 54,
   "metadata": {
    "collapsed": false
   },
   "outputs": [
    {
     "name": "stdout",
     "output_type": "stream",
     "text": [
      "peak-to-peak field amplitude = 5.143 percent\n"
     ]
    }
   ],
   "source": [
    "print 'peak-to-peak field amplitude = %.3f percent' % \\\n",
    "(100*(residuals_max.max() - residuals_max.min())/(tf_max.max() - tf_max.min()))"
   ]
  },
  {
   "cell_type": "markdown",
   "metadata": {},
   "source": [
    "### Comparison"
   ]
  },
  {
   "cell_type": "code",
   "execution_count": 55,
   "metadata": {
    "collapsed": false
   },
   "outputs": [
    {
     "data": {
      "image/png": "[encoded data removed]",
      "text/plain": [
       "<matplotlib.figure.Figure at 0x16ca75f8>"
      ]
     },
     "metadata": {},
     "output_type": "display_data"
    }
   ],
   "source": [
    "plt.figure(figsize=(3.15, 7))\n",
    "plt.axis('scaled')\n",
    "\n",
    "ranges = np.max(np.abs([np.min(residuals_true), np.max(residuals_true)]))\n",
    "levels = MaxNLocator(nbins=20).tick_values(-ranges, ranges)\n",
    "cmap = plt.get_cmap('RdBu_r')\n",
    "norm = BoundaryNorm(levels, ncolors=cmap.N, clip=True)\n",
    "plt.subplot(3,1,1)\n",
    "plt.contourf(0.001*yp.reshape(shape), 0.001*xp.reshape(shape),\n",
    "             residuals_true.reshape(shape), levels=levels,\n",
    "             cmap = cmap, norm=norm)\n",
    "plt.ylabel('x (km)')\n",
    "plt.xlim(0.001*np.min(yp), 0.001*np.max(yp))\n",
    "plt.ylim(0.001*np.min(xp), 0.001*np.max(xp))\n",
    "cbar = plt.colorbar()\n",
    "plt.annotate(s='(a)', xy=(0.88,0.92),\n",
    "             xycoords = 'axes fraction', color='k',\n",
    "             fontsize = 10)\n",
    "\n",
    "ranges = np.max(np.abs([np.min(residuals_usual), np.max(residuals_usual)]))\n",
    "levels = MaxNLocator(nbins=20).tick_values(-ranges, ranges)\n",
    "cmap = plt.get_cmap('RdBu_r')\n",
    "norm = BoundaryNorm(levels, ncolors=cmap.N, clip=True)\n",
    "\n",
    "plt.subplot(3,1,2)\n",
    "plt.contourf(0.001*yp.reshape(shape), 0.001*xp.reshape(shape),\n",
    "             residuals_usual.reshape(shape), levels=levels,\n",
    "             cmap = cmap, norm=norm)\n",
    "plt.ylabel('x (km)')\n",
    "plt.xlim(0.001*np.min(yp), 0.001*np.max(yp))\n",
    "plt.ylim(0.001*np.min(xp), 0.001*np.max(xp))\n",
    "plt.colorbar()\n",
    "plt.annotate(s='(b)', xy=(0.88,0.92),\n",
    "             xycoords = 'axes fraction', color='k',\n",
    "             fontsize = 10)\n",
    "\n",
    "ranges = np.max(np.abs([np.min(residuals_max), np.max(residuals_max)]))\n",
    "levels = MaxNLocator(nbins=20).tick_values(-ranges, ranges)\n",
    "cmap = plt.get_cmap('RdBu_r')\n",
    "norm = BoundaryNorm(levels, ncolors=cmap.N, clip=True)\n",
    "\n",
    "plt.subplot(3,1,3)\n",
    "plt.contourf(0.001*yp.reshape(shape), 0.001*xp.reshape(shape),\n",
    "             residuals_max.reshape(shape), levels=levels,\n",
    "             cmap = cmap, norm=norm)\n",
    "plt.ylabel('x (km)')\n",
    "plt.xlabel('y (km)')\n",
    "plt.xlim(0.001*np.min(yp), 0.001*np.max(yp))\n",
    "plt.ylim(0.001*np.min(xp), 0.001*np.max(xp))\n",
    "plt.colorbar()\n",
    "plt.annotate(s='(c)', xy=(0.88,0.92), \n",
    "             xycoords = 'axes fraction', color='k',\n",
    "             fontsize = 10)\n",
    "\n",
    "plt.tight_layout()\n",
    "plt.savefig('..\\\\manuscript\\\\figures\\\\field_differences.pdf', facecolor='w', bbox_inches='tight')\n",
    "\n",
    "plt.show()"
   ]
  },
  {
   "cell_type": "code",
   "execution_count": null,
   "metadata": {
    "collapsed": true
   },
   "outputs": [],
   "source": []
  }
 ],
 "metadata": {
  "anaconda-cloud": {},
  "kernelspec": {
   "display_name": "Python [default]",
   "language": "python",
   "name": "python2"
  },
  "language_info": {
   "codemirror_mode": {
    "name": "ipython",
    "version": 2
   },
   "file_extension": ".py",
   "mimetype": "text/x-python",
   "name": "python",
   "nbconvert_exporter": "python",
   "pygments_lexer": "ipython2",
   "version": "2.7.10"
  }
 },
 "nbformat": 4,
 "nbformat_minor": 1
}
