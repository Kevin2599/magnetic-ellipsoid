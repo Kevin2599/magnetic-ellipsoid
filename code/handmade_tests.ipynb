{
 "cells": [
  {
   "cell_type": "code",
   "execution_count": 1,
   "metadata": {
    "collapsed": false
   },
   "outputs": [
    {
     "name": "stderr",
     "output_type": "stream",
     "text": [
      "C:\\Users\\Vanderlei\\Documents\\fatiando\\fatiando\\vis\\mpl.py:70: UserWarning: This module will be removed in v0.6. We recommend the use of matplotlib.pyplot module directly. Some of the fatiando specific functions will remain.\n",
      "  \"specific functions will remain.\")\n"
     ]
    }
   ],
   "source": [
    "import numpy as np\n",
    "from copy import deepcopy\n",
    "\n",
    "from fatiando import utils, gridder\n",
    "from fatiando.mesher import TriaxialEllipsoid\n",
    "from fatiando.gravmag import triaxial_ellipsoid\n",
    "from numpy.testing import assert_almost_equal\n",
    "from pytest import raises"
   ]
  },
  {
   "cell_type": "code",
   "execution_count": 2,
   "metadata": {
    "collapsed": true
   },
   "outputs": [],
   "source": [
    "# Local-geomagnetic field\n",
    "F = 30000\n",
    "inc = -3\n",
    "dec = 57\n",
    "\n",
    "gm = 1000  # geometrical factor\n",
    "area = [-5.*gm, 5.*gm, -5.*gm, 5.*gm]\n",
    "x, y, z = gridder.scatter(area, 300, z=0.)\n",
    "axis_ref = gm  # reference semi-axis\n",
    "\n",
    "# Triaxial ellipsoids used for testing\n",
    "model = [TriaxialEllipsoid(x=-3*gm, y=-3*gm, z=3*axis_ref,\n",
    "                           large_axis=axis_ref,\n",
    "                           intermediate_axis=0.8*axis_ref,\n",
    "                           small_axis=0.6*axis_ref,\n",
    "                           strike=78, dip=92, rake=135,\n",
    "                           props={'susceptibility tensor': [0.7, 0.7, 0.7,\n",
    "                                                            90., 47., 13.]}),\n",
    "         TriaxialEllipsoid(x=-gm, y=-gm, z=2.4*axis_ref,\n",
    "                           large_axis=1.1*axis_ref,\n",
    "                           intermediate_axis=0.7*axis_ref,\n",
    "                           small_axis=0.3*axis_ref,\n",
    "                           strike=4, dip=10, rake=5,\n",
    "                           props={'susceptibility tensor': [0.2, 0.15, 0.05,\n",
    "                                                            180, 19, -8.],\n",
    "                                  'remanent magnetization': [3, -6, 35]}),\n",
    "         TriaxialEllipsoid(x=3*gm, y=3*gm, z=4*axis_ref,\n",
    "                           large_axis=1.5*axis_ref,\n",
    "                           intermediate_axis=0.9*axis_ref,\n",
    "                           small_axis=0.6*axis_ref,\n",
    "                           strike=-58, dip=87, rake=49,\n",
    "                           props={'remanent magnetization': [4.7, 39, 0]})]"
   ]
  },
  {
   "cell_type": "code",
   "execution_count": 3,
   "metadata": {
    "collapsed": true
   },
   "outputs": [],
   "source": [
    "def test_triaxial_ellipsoid_ignore_none():\n",
    "    \"Triaxial ellipsoid ignores model elements that are None\"\n",
    "\n",
    "    # forced physical property\n",
    "    pmag = utils.ang2vec(7, -52, 13)\n",
    "\n",
    "    # copy of the original model\n",
    "    model_none = deepcopy(model)\n",
    "\n",
    "    # force an element of the copy to be None\n",
    "    model_none[1] = None\n",
    "\n",
    "    # magnetic field produced by the original model\n",
    "    # without the removed element\n",
    "    bx = triaxial_ellipsoid.bx(x, y, z, [model[0], model[2]],\n",
    "                               F, inc, dec, pmag=pmag)\n",
    "    by = triaxial_ellipsoid.by(x, y, z, [model[0], model[2]],\n",
    "                               F, inc, dec, pmag=pmag)\n",
    "    bz = triaxial_ellipsoid.bz(x, y, z, [model[0], model[2]],\n",
    "                               F, inc, dec, pmag=pmag)\n",
    "    tf = triaxial_ellipsoid.tf(x, y, z, [model[0], model[2]],\n",
    "                               F, inc, dec, pmag=pmag)\n",
    "\n",
    "    # magnetic field produced by the copy\n",
    "    bx2 = triaxial_ellipsoid.bx(x, y, z, model_none,\n",
    "                                F, inc, dec, pmag=pmag)\n",
    "    by2 = triaxial_ellipsoid.by(x, y, z, model_none,\n",
    "                                F, inc, dec, pmag=pmag)\n",
    "    bz2 = triaxial_ellipsoid.bz(x, y, z, model_none,\n",
    "                                F, inc, dec, pmag=pmag)\n",
    "    tf2 = triaxial_ellipsoid.tf(x, y, z, model_none,\n",
    "                                F, inc, dec, pmag=pmag)\n",
    "\n",
    "    assert_almost_equal(bx2, bx, decimal=15)\n",
    "    assert_almost_equal(by2, by, decimal=15)\n",
    "    assert_almost_equal(bz2, bz, decimal=15)\n",
    "    assert_almost_equal(tf2, tf, decimal=15)\n",
    "\n",
    "\n",
    "def test_triaxial_ellipsoid_ignore_missing_prop():\n",
    "    \"Triaxial ellipsoid ignores model without the needed properties\"\n",
    "\n",
    "    # forced physical property\n",
    "    pmag = utils.ang2vec(2, -4, 17)\n",
    "\n",
    "    # copy of the original model\n",
    "    model_none = deepcopy(model)\n",
    "\n",
    "    # remove the required properties of an element of the copy\n",
    "    del model_none[1].props['susceptibility tensor']\n",
    "    del model_none[1].props['remanent magnetization']\n",
    "\n",
    "    # magnetic field produced by the original model\n",
    "    # without an element\n",
    "    bx = triaxial_ellipsoid.bx(x, y, z, [model[0], model[2]],\n",
    "                               F, inc, dec, pmag=pmag)\n",
    "    by = triaxial_ellipsoid.by(x, y, z, [model[0], model[2]],\n",
    "                               F, inc, dec, pmag=pmag)\n",
    "    bz = triaxial_ellipsoid.bz(x, y, z, [model[0], model[2]],\n",
    "                               F, inc, dec, pmag=pmag)\n",
    "    tf = triaxial_ellipsoid.tf(x, y, z, [model[0], model[2]],\n",
    "                               F, inc, dec, pmag=pmag)\n",
    "\n",
    "    # magnetic field produced by the copy\n",
    "    bx2 = triaxial_ellipsoid.bx(x, y, z, model_none,\n",
    "                                F, inc, dec, pmag=pmag)\n",
    "    by2 = triaxial_ellipsoid.by(x, y, z, model_none,\n",
    "                                F, inc, dec, pmag=pmag)\n",
    "    bz2 = triaxial_ellipsoid.bz(x, y, z, model_none,\n",
    "                                F, inc, dec, pmag=pmag)\n",
    "    tf2 = triaxial_ellipsoid.tf(x, y, z, model_none,\n",
    "                                F, inc, dec, pmag=pmag)\n",
    "\n",
    "    assert_almost_equal(bx2, bx, decimal=15)\n",
    "    assert_almost_equal(by2, by, decimal=15)\n",
    "    assert_almost_equal(bz2, bz, decimal=15)\n",
    "    assert_almost_equal(tf2, tf, decimal=15)"
   ]
  },
  {
   "cell_type": "code",
   "execution_count": 4,
   "metadata": {
    "collapsed": true
   },
   "outputs": [],
   "source": [
    "def test_triaxial_ellipsoid_self_demagnetization():\n",
    "    \"Self-demagnetization decreases the magnetization intensity\"\n",
    "\n",
    "    mag_with_demag = triaxial_ellipsoid.magnetization(model[1],\n",
    "                                                      F, inc, dec,\n",
    "                                                      demag=True)\n",
    "\n",
    "    mag_without_demag = triaxial_ellipsoid.magnetization(model[1],\n",
    "                                                         F, inc, dec,\n",
    "                                                         demag=False)\n",
    "\n",
    "    mag_with_demag_norm = np.linalg.norm(mag_with_demag, ord=2)\n",
    "    mag_without_demag_norm = np.linalg.norm(mag_without_demag, ord=2)\n",
    "\n",
    "    assert mag_with_demag_norm < mag_without_demag_norm"
   ]
  },
  {
   "cell_type": "code",
   "execution_count": 5,
   "metadata": {
    "collapsed": true
   },
   "outputs": [],
   "source": [
    "test_triaxial_ellipsoid_ignore_none()"
   ]
  },
  {
   "cell_type": "code",
   "execution_count": 6,
   "metadata": {
    "collapsed": true
   },
   "outputs": [],
   "source": [
    "test_triaxial_ellipsoid_ignore_missing_prop()"
   ]
  },
  {
   "cell_type": "code",
   "execution_count": 7,
   "metadata": {
    "collapsed": false
   },
   "outputs": [],
   "source": [
    "test_triaxial_ellipsoid_self_demagnetization()"
   ]
  },
  {
   "cell_type": "code",
   "execution_count": null,
   "metadata": {
    "collapsed": true
   },
   "outputs": [],
   "source": []
  }
 ],
 "metadata": {
  "anaconda-cloud": {},
  "kernelspec": {
   "display_name": "Python [default]",
   "language": "python",
   "name": "python2"
  },
  "language_info": {
   "codemirror_mode": {
    "name": "ipython",
    "version": 2
   },
   "file_extension": ".py",
   "mimetype": "text/x-python",
   "name": "python",
   "nbconvert_exporter": "python",
   "pygments_lexer": "ipython2",
   "version": "2.7.10"
  }
 },
 "nbformat": 4,
 "nbformat_minor": 0
}
