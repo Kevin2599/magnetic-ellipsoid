{
 "cells": [
  {
   "cell_type": "markdown",
   "metadata": {},
   "source": [
    "# Verify equation 31"
   ]
  },
  {
   "cell_type": "markdown",
   "metadata": {},
   "source": [
    "### Import the required modules"
   ]
  },
  {
   "cell_type": "code",
   "execution_count": 1,
   "metadata": {
    "collapsed": false
   },
   "outputs": [
    {
     "name": "stderr",
     "output_type": "stream",
     "text": [
      "C:\\Users\\Vanderlei\\Documents\\fatiando\\fatiando\\vis\\mpl.py:76: UserWarning: This module will be removed in v0.6. We recommend the use of matplotlib.pyplot module directly. Some of the fatiando specific functions will remain.\n",
      "  \"specific functions will remain.\")\n"
     ]
    }
   ],
   "source": [
    "%matplotlib inline\n",
    "import numpy as np\n",
    "from numpy.random import rand\n",
    "from matplotlib import pyplot as plt\n",
    "from matplotlib.colors import Normalize\n",
    "from matplotlib.colorbar import ColorbarBase\n",
    "from matplotlib.cm import get_cmap\n",
    "from fatiando import mesher, utils\n",
    "from fatiando.gravmag import triaxial_ellipsoid"
   ]
  },
  {
   "cell_type": "code",
   "execution_count": 2,
   "metadata": {
    "collapsed": true
   },
   "outputs": [],
   "source": [
    "# Set some plot parameters\n",
    "from matplotlib import rcParams\n",
    "rcParams['figure.dpi'] = 300.\n",
    "rcParams['font.size'] = 6\n",
    "rcParams['xtick.labelsize'] = 'medium'\n",
    "rcParams['ytick.labelsize'] = 'medium'\n",
    "rcParams['axes.labelsize'] = 'large'\n",
    "rcParams['legend.fontsize'] = 'medium'\n",
    "rcParams['savefig.dpi'] = 300."
   ]
  },
  {
   "cell_type": "markdown",
   "metadata": {},
   "source": [
    "### Randomly generated models"
   ]
  },
  {
   "cell_type": "code",
   "execution_count": 3,
   "metadata": {
    "collapsed": true
   },
   "outputs": [],
   "source": [
    "# isostropic susceptibility (in SI)\n",
    "k = np.random.rand()\n",
    "\n",
    "# Ellipsoid semi-axes (in m)\n",
    "a = 1000*np.random.rand()\n",
    "b = a*np.random.rand()\n",
    "c = b*np.random.rand()\n",
    "\n",
    "# demagnetizing factors\n",
    "n11, n22, n33 = triaxial_ellipsoid.demag_factors(a, b, c)\n",
    "\n",
    "# orietation angles (in degrees)\n",
    "strike = 180.\n",
    "dip = 0.\n",
    "rake = 0.\n",
    "\n",
    "# auxiliary orientation angles (in radians)\n",
    "alpha, gamma, delta = triaxial_ellipsoid.structural_angles(strike, dip, rake)\n",
    "\n",
    "V = triaxial_ellipsoid.V(alpha, gamma, delta)"
   ]
  },
  {
   "cell_type": "code",
   "execution_count": 4,
   "metadata": {
    "collapsed": false
   },
   "outputs": [],
   "source": [
    "F = 25000. + 35000.*np.random.rand() # intensity (nT) of the local-geomagnetic field\n",
    "inc = -90 + 180*np.random.rand() # inclination (degrees)\n",
    "dec = 360*np.random.rand() # declination (degrees)"
   ]
  },
  {
   "cell_type": "code",
   "execution_count": 5,
   "metadata": {
    "collapsed": true
   },
   "outputs": [],
   "source": [
    "# Local-geomagnetic field\n",
    "F_unit = utils.ang2vec(1, inc, dec)\n",
    "\n",
    "# isotropic susceptibility tensor\n",
    "K = k*np.identity(3)"
   ]
  },
  {
   "cell_type": "markdown",
   "metadata": {},
   "source": [
    "### Magnetization"
   ]
  },
  {
   "cell_type": "code",
   "execution_count": 6,
   "metadata": {
    "collapsed": false
   },
   "outputs": [],
   "source": [
    "# in the local coordinate system\n",
    "mag = triaxial_ellipsoid.magnetization(n11, n22, n33, K, \n",
    "                                       F, inc, dec, 0., 0., 0., V)\n",
    "\n",
    "# in the main coordinate system\n",
    "mag = np.dot(V, mag)"
   ]
  },
  {
   "cell_type": "code",
   "execution_count": 7,
   "metadata": {
    "collapsed": true
   },
   "outputs": [],
   "source": [
    "aux = np.array([1. - k*n11,\n",
    "                1. - k*n22,\n",
    "                1. - k*n33])\n",
    "Lambda = np.dot(V, np.dot(np.diag(1./aux), V.T))\n",
    "mag2 = np.dot(Lambda, k*(F/(4*np.pi*100))*F_unit)"
   ]
  },
  {
   "cell_type": "code",
   "execution_count": 8,
   "metadata": {
    "collapsed": false
   },
   "outputs": [
    {
     "data": {
      "text/plain": [
       "True"
      ]
     },
     "execution_count": 8,
     "metadata": {},
     "output_type": "execute_result"
    }
   ],
   "source": [
    "np.allclose(mag, mag2)"
   ]
  }
 ],
 "metadata": {
  "anaconda-cloud": {},
  "kernelspec": {
   "display_name": "Python [default]",
   "language": "python",
   "name": "python2"
  },
  "language_info": {
   "codemirror_mode": {
    "name": "ipython",
    "version": 2
   },
   "file_extension": ".py",
   "mimetype": "text/x-python",
   "name": "python",
   "nbconvert_exporter": "python",
   "pygments_lexer": "ipython2",
   "version": "2.7.10"
  }
 },
 "nbformat": 4,
 "nbformat_minor": 1
}
