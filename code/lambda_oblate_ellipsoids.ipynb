{
 "cells": [
  {
   "cell_type": "markdown",
   "metadata": {},
   "source": [
    "# $\\lambda$ variable for oblate ellipsoids"
   ]
  },
  {
   "cell_type": "code",
   "execution_count": 1,
   "metadata": {
    "collapsed": true
   },
   "outputs": [],
   "source": [
    "%matplotlib inline"
   ]
  },
  {
   "cell_type": "code",
   "execution_count": 2,
   "metadata": {
    "collapsed": true
   },
   "outputs": [],
   "source": [
    "import matplotlib.pyplot as plt\n",
    "import numpy as np"
   ]
  },
  {
   "cell_type": "markdown",
   "metadata": {},
   "source": [
    "Here, we follow the reasoning presented by [Webster (1904)](#webster-dynamics) for analyzing the ellipsoidal coordinate  $\\lambda$ describing a oblate ellipsoid. Let's consider an ellipsoid with semi-axes $a$, $b$, $c$ oriented along the $x$-, $y$-, and $z$-axis, respectively, where $0 < a < b = c$. This ellipsoid is defined by the following equation:"
   ]
  },
  {
   "cell_type": "markdown",
   "metadata": {},
   "source": [
    "<a id='eq1'></a>\n",
    "$$\n",
    "\\frac{x^{2}}{a^{2}} + \\frac{y^{2} + z^{2}}{b^{2}} = 1 \\: . \\tag{1}\n",
    "$$"
   ]
  },
  {
   "cell_type": "markdown",
   "metadata": {},
   "source": [
    "A quadric surface which is confocal with the ellipsoid defined in [equation 1](#eq1) can be described as follows:"
   ]
  },
  {
   "cell_type": "markdown",
   "metadata": {},
   "source": [
    "<a id='eq2'></a>\n",
    "\n",
    "$$\n",
    "\\frac{x^{2}}{a^{2} + \\rho} + \\frac{y^{2} + z^{2}}{b^{2} + \\rho}= 1 \\: , \\tag{2}\n",
    "$$"
   ]
  },
  {
   "cell_type": "markdown",
   "metadata": {},
   "source": [
    "where $\\rho$ is a real number. We know that [equation 2](#eq2) represents an ellipsoid for $\\rho$ satisfying the condition"
   ]
  },
  {
   "cell_type": "markdown",
   "metadata": {},
   "source": [
    "<a id='eq3'></a>\n",
    "\n",
    "$$\n",
    "\\rho + a^{2} > 0 \\: . \\tag{3}\n",
    "$$"
   ]
  },
  {
   "cell_type": "markdown",
   "metadata": {},
   "source": [
    "Given $a$, $b$, and a $\\rho$ satisfying [equation 3](#eq3), we may use [equation 2](#eq2) for determining a set of points $(x, y, z)$ lying on the surface of an ellipsoid confocal with that one defined in [equation 1](#eq1). Now, consider the problem of determining the ellipsoid which is confocal with that one defined in [equation 1](#eq1) and pass through a particular point $(x, y, z)$. This problem consists in determining the real number $\\rho$ that, given $a$, $b$, $x$, $y$, and $z$, satisfies the [equation 2](#eq2)."
   ]
  },
  {
   "cell_type": "markdown",
   "metadata": {
    "collapsed": true
   },
   "source": [
    "By rearranging [equation 2](#eq2), we obtain the following quadratic equation for $\\rho$:"
   ]
  },
  {
   "cell_type": "markdown",
   "metadata": {},
   "source": [
    "$$\n",
    "f(\\rho) = (a^{2} + \\rho)(b^{2} + \\rho) - (b^{2} + \\rho) \\, x^{2}\n",
    "- (a^{2} + \\rho) \\, (y^{2} + z^{2}) \\: .\n",
    "$$"
   ]
  },
  {
   "cell_type": "markdown",
   "metadata": {},
   "source": [
    "This equation shows that:"
   ]
  },
  {
   "cell_type": "markdown",
   "metadata": {},
   "source": [
    "$$\n",
    "\\rho = \\begin{cases}\n",
    "d \\to \\infty \\: &, \\quad f(\\rho) > 0 \\\\\n",
    "-a^{2} \\: &, \\quad f(\\rho) < 0 \\\\\n",
    "-b^{2} \\: &, \\quad f(\\rho) > 0\n",
    "\\end{cases} \\: .\n",
    "$$"
   ]
  },
  {
   "cell_type": "markdown",
   "metadata": {},
   "source": [
    "By rearranging this equation, we obtain a simpler one given by:"
   ]
  },
  {
   "cell_type": "markdown",
   "metadata": {},
   "source": [
    "<a id='eq4'></a>\n",
    "\n",
    "$$\n",
    "f(\\rho) = p_{2} \\, \\rho^{2} + p_{1} \\, \\rho + p_{0} \\: , \\tag{4}\n",
    "$$"
   ]
  },
  {
   "cell_type": "markdown",
   "metadata": {},
   "source": [
    "where"
   ]
  },
  {
   "cell_type": "markdown",
   "metadata": {},
   "source": [
    "<a id='eq5'></a>\n",
    "\n",
    "$$\n",
    "p_{2} = 1 \\: , \\tag{5}\n",
    "$$"
   ]
  },
  {
   "cell_type": "markdown",
   "metadata": {},
   "source": [
    "<a id='eq6'></a>\n",
    "\n",
    "$$\n",
    "p_{1} =  a^{2} + b^{2} - x^{2} - y^{2} - z^{2} \\tag{6}\n",
    "$$"
   ]
  },
  {
   "cell_type": "markdown",
   "metadata": {},
   "source": [
    "and"
   ]
  },
  {
   "cell_type": "markdown",
   "metadata": {},
   "source": [
    "<a id='eq7'></a>\n",
    "\n",
    "$$\n",
    "p_{0} =  a^{2} \\, b^{2} - b^{2} \\, x^{2} - a^{2} \\, y^{2} - a^{2} \\, z^{2} \\: . \\tag{7}\n",
    "$$"
   ]
  },
  {
   "cell_type": "markdown",
   "metadata": {},
   "source": [
    "Note that a particular $\\rho$ satisfying [equation 2](#eq2) results in $f(\\rho) = 0$ ([equation 4](#eq4)).\n",
    "\n",
    "In order to illustrate the parameter $\\rho$, consider the constants $a$, $b$, $x$, $y$, and $z$ given in the cell below:"
   ]
  },
  {
   "cell_type": "code",
   "execution_count": 3,
   "metadata": {
    "collapsed": true
   },
   "outputs": [],
   "source": [
    "a = 11.\n",
    "b = 20.\n",
    "x = 21.\n",
    "y = 23.\n",
    "z = 30."
   ]
  },
  {
   "cell_type": "markdown",
   "metadata": {},
   "source": [
    "By using these constants, we calculate the coefficients $p_{2}$ ([equation 5](#eq5)), $p_{1}$ ([equation 6](#eq6)) and $p_{0}$ ([equation 7](#eq7)) as follows:"
   ]
  },
  {
   "cell_type": "code",
   "execution_count": 4,
   "metadata": {
    "collapsed": false
   },
   "outputs": [],
   "source": [
    "p2 = 1.\n",
    "p1 = a**2 + b**2 - (x**2) - (y**2) - (z**2)\n",
    "p0 = (a*b)**2 - (b*x)**2 - (a*y)**2 - (a*z)**2"
   ]
  },
  {
   "cell_type": "markdown",
   "metadata": {},
   "source": [
    "In the sequence, we define a set of values for the variable $\\rho$ in an interval $\\left[ \\rho_{min} \\, , \\rho_{max} \\right]$ and evaluate the quadratic equation $f(\\rho)$ ([equation 4](#eq4))."
   ]
  },
  {
   "cell_type": "code",
   "execution_count": 5,
   "metadata": {
    "collapsed": true
   },
   "outputs": [],
   "source": [
    "rho_min = -b**2 - 500.\n",
    "rho_max = -a**2 + 2500.\n",
    "rho = np.linspace(rho_min, rho_max, 100)"
   ]
  },
  {
   "cell_type": "code",
   "execution_count": 6,
   "metadata": {
    "collapsed": true
   },
   "outputs": [],
   "source": [
    "f = p2*(rho**2) + p1*rho + p0"
   ]
  },
  {
   "cell_type": "markdown",
   "metadata": {},
   "source": [
    "Finally, the cell below shows the quadratic equation $f(\\rho)$ ([equation 4](#eq4)) evaluated in the range $\\left[ \\rho_{min} \\, , \\rho_{max} \\right]$ defined above."
   ]
  },
  {
   "cell_type": "code",
   "execution_count": 7,
   "metadata": {
    "collapsed": false
   },
   "outputs": [
    {
     "data": {
      "image/png": "[encoded data removed]",
      "text/plain": [
       "<matplotlib.figure.Figure at 0xa62f128>"
      ]
     },
     "metadata": {},
     "output_type": "display_data"
    }
   ],
   "source": [
    "ymin = np.min(f) - 0.1*(np.max(f) - np.min(f))\n",
    "ymax = np.max(f) + 0.1*(np.max(f) - np.min(f))\n",
    "\n",
    "plt.close('all')\n",
    "plt.figure(figsize=(10,4))\n",
    "\n",
    "plt.subplot(1,2,1)\n",
    "plt.plot([rho_min, rho_max], [0., 0.], 'k-')\n",
    "plt.plot([-a**2, -a**2], [ymin, ymax], 'r--', label = '$-a^{2}$')\n",
    "plt.plot([-b**2, -b**2], [ymin, ymax], 'g--', label = '$-b^{2}$')\n",
    "plt.plot(rho, f, 'k-', linewidth=2.)\n",
    "plt.xlim(rho_min, rho_max)\n",
    "plt.ylim(ymin, ymax)\n",
    "plt.legend(loc = 'best')\n",
    "plt.xlabel('$\\\\rho$', fontsize = 20)\n",
    "plt.ylabel('$f(\\\\rho)$', fontsize = 20)\n",
    "\n",
    "plt.subplot(1,2,2)\n",
    "plt.plot([rho_min, rho_max], [0., 0.], 'k-')\n",
    "plt.plot([-a**2, -a**2], [ymin, ymax], 'r--', label = '$-a^{2}$')\n",
    "plt.plot([-b**2, -b**2], [ymin, ymax], 'g--', label = '$-b^{2}$')\n",
    "plt.plot(rho, f, 'k-', linewidth=2.)\n",
    "plt.xlim(-600., 100.)\n",
    "plt.ylim(-0.3*10**6, 10**6)\n",
    "plt.legend(loc = 'best')\n",
    "plt.xlabel('$\\\\rho$', fontsize = 20)\n",
    "#plt.ylabel('$f(\\\\rho)$', fontsize = 20)\n",
    "\n",
    "plt.tight_layout()\n",
    "\n",
    "plt.show()"
   ]
  },
  {
   "cell_type": "markdown",
   "metadata": {},
   "source": [
    "Remember that we are interested in a $\\rho$ satisfying [equation 3](#eq3). Consequently, according to the figures shown above, we are interested in the largest root $\\lambda$ of the quadratic equation $f(\\rho)$ ([equation 4](#eq4))."
   ]
  },
  {
   "cell_type": "markdown",
   "metadata": {},
   "source": [
    "The largest root $\\lambda$ of $f(\\rho)$ ([equation 4](#eq4)) is given by:"
   ]
  },
  {
   "cell_type": "markdown",
   "metadata": {},
   "source": [
    "<a id='eq8'></a>\n",
    "\n",
    "$$\n",
    "\\lambda = \\frac{-p_{1} + \\sqrt{\\Delta}}{2} \\: , \\tag{8}\n",
    "$$"
   ]
  },
  {
   "cell_type": "markdown",
   "metadata": {},
   "source": [
    "where"
   ]
  },
  {
   "cell_type": "markdown",
   "metadata": {},
   "source": [
    "<a id='eq9'></a>\n",
    "\n",
    "$$\n",
    "\\Delta = p_{1}^{2} - 4 \\, p_{0} \\: . \\tag{9}\n",
    "$$"
   ]
  },
  {
   "cell_type": "markdown",
   "metadata": {},
   "source": [
    "The cells below use the equations [8](#eq8) and [9](#eq9) to compute the root $\\lambda$."
   ]
  },
  {
   "cell_type": "code",
   "execution_count": 8,
   "metadata": {
    "collapsed": false
   },
   "outputs": [],
   "source": [
    "delta = p1**2 - 4.*p2*p0"
   ]
  },
  {
   "cell_type": "code",
   "execution_count": 9,
   "metadata": {
    "collapsed": false
   },
   "outputs": [],
   "source": [
    "lamb = (-p1 + np.sqrt(delta))/(2.*p2)"
   ]
  },
  {
   "cell_type": "code",
   "execution_count": 10,
   "metadata": {
    "collapsed": false
   },
   "outputs": [
    {
     "name": "stdout",
     "output_type": "stream",
     "text": [
      "lambda = 1543.90166\n"
     ]
    }
   ],
   "source": [
    "print 'lambda = %.5f' % lamb"
   ]
  },
  {
   "cell_type": "markdown",
   "metadata": {},
   "source": [
    "By substituing $\\lambda$ in [equation 4](#eq4), we can verify that it is a root of $f(\\rho)$."
   ]
  },
  {
   "cell_type": "code",
   "execution_count": 11,
   "metadata": {
    "collapsed": true
   },
   "outputs": [],
   "source": [
    "f_lamb = p2*(lamb**2) + p1*lamb + p0"
   ]
  },
  {
   "cell_type": "code",
   "execution_count": 12,
   "metadata": {
    "collapsed": false
   },
   "outputs": [
    {
     "name": "stdout",
     "output_type": "stream",
     "text": [
      "f(lambda) = -0.00000\n"
     ]
    }
   ],
   "source": [
    "print 'f(lambda) = %.5f' % f_lamb"
   ]
  },
  {
   "cell_type": "markdown",
   "metadata": {},
   "source": [
    "### References"
   ]
  },
  {
   "cell_type": "markdown",
   "metadata": {},
   "source": [
    "<a id='webster-dynamics'></a>\n",
    "\n",
    "* Webster, A. G. 1904. The Dynamics of Particles and of Rigid, Elastic and Fluid Bodies. Universidade de Michigan."
   ]
  },
  {
   "cell_type": "code",
   "execution_count": null,
   "metadata": {
    "collapsed": true
   },
   "outputs": [],
   "source": []
  }
 ],
 "metadata": {
  "anaconda-cloud": {},
  "kernelspec": {
   "display_name": "Python [default]",
   "language": "python",
   "name": "python2"
  },
  "language_info": {
   "codemirror_mode": {
    "name": "ipython",
    "version": 2
   },
   "file_extension": ".py",
   "mimetype": "text/x-python",
   "name": "python",
   "nbconvert_exporter": "python",
   "pygments_lexer": "ipython2",
   "version": "2.7.10"
  }
 },
 "nbformat": 4,
 "nbformat_minor": 1
}
