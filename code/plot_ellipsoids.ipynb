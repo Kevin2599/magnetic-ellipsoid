{
 "cells": [
  {
   "cell_type": "markdown",
   "metadata": {},
   "source": [
    "# Code for plotting ellipsoids"
   ]
  },
  {
   "cell_type": "code",
   "execution_count": 1,
   "metadata": {
    "collapsed": true
   },
   "outputs": [],
   "source": [
    "#%matplotlib inline"
   ]
  },
  {
   "cell_type": "code",
   "execution_count": 2,
   "metadata": {
    "collapsed": false
   },
   "outputs": [],
   "source": [
    "from mpl_toolkits.mplot3d import Axes3D\n",
    "import matplotlib.pyplot as plt\n",
    "import numpy as np\n",
    "import mesher"
   ]
  },
  {
   "cell_type": "code",
   "execution_count": 3,
   "metadata": {
    "collapsed": false
   },
   "outputs": [],
   "source": [
    "import plot_functions as pfun"
   ]
  },
  {
   "cell_type": "markdown",
   "metadata": {},
   "source": [
    "### 3D models"
   ]
  },
  {
   "cell_type": "code",
   "execution_count": 4,
   "metadata": {
    "collapsed": true
   },
   "outputs": [],
   "source": [
    "# orientation angles (in degrees)\n",
    "strike = 0\n",
    "dip = 0\n",
    "rake = 180"
   ]
  },
  {
   "cell_type": "code",
   "execution_count": 5,
   "metadata": {
    "collapsed": false
   },
   "outputs": [
    {
     "data": {
      "text/plain": [
       "(-180.0, 90.0, 0.0)"
      ]
     },
     "execution_count": 5,
     "metadata": {},
     "output_type": "execute_result"
    }
   ],
   "source": [
    "alpha, gamma, delta = mesher._auxiliary_angles(strike, dip, rake)\n",
    "\n",
    "np.rad2deg(alpha), np.rad2deg(gamma), np.rad2deg(delta)"
   ]
  },
  {
   "cell_type": "code",
   "execution_count": 6,
   "metadata": {
    "collapsed": false
   },
   "outputs": [],
   "source": [
    "oblate = mesher.OblateEllipsoid(0, 0, 0, 4, 15, strike, dip, rake)\n",
    "prolate = mesher.ProlateEllipsoid(0, 20, 0, 15, 4, strike, dip, rake)\n",
    "triaxial = mesher.TriaxialEllipsoid(0, 40, 0, 15.1, 15, 4, strike, dip, rake)"
   ]
  },
  {
   "cell_type": "code",
   "execution_count": 8,
   "metadata": {
    "collapsed": false
   },
   "outputs": [],
   "source": [
    "plt.close('all')\n",
    "fig = plt.figure(figsize=(10,8))\n",
    "ax = fig.gca(projection='3d')\n",
    "\n",
    "# plot the main coordinate system\n",
    "#pfun.draw_main_system(ax, length_axes=50., elev=190, azim=-10)\n",
    "\n",
    "# triaxial body\n",
    "pfun.draw_ellipsoid(ax, triaxial, body_color=(1,1,0), body_alpha=0.3)\n",
    "\n",
    "# prolate body\n",
    "pfun.draw_ellipsoid(ax, prolate, body_color=(0,1,1), body_alpha=0.3)\n",
    "\n",
    "# oblate body\n",
    "pfun.draw_ellipsoid(ax, oblate, body_color=(1,0,1), body_alpha=0.3)\n",
    "\n",
    "ax.set_xlabel('x (m)')\n",
    "ax.set_ylabel('y (m)')\n",
    "ax.set_zlabel('z (m)')\n",
    "\n",
    "ax.view_init(215, 20)\n",
    "\n",
    "plt.tight_layout(True)\n",
    "\n",
    "plt.show()"
   ]
  },
  {
   "cell_type": "code",
   "execution_count": null,
   "metadata": {
    "collapsed": true
   },
   "outputs": [],
   "source": []
  }
 ],
 "metadata": {
  "anaconda-cloud": {},
  "kernelspec": {
   "display_name": "Python [default]",
   "language": "python",
   "name": "python2"
  },
  "language_info": {
   "codemirror_mode": {
    "name": "ipython",
    "version": 2
   },
   "file_extension": ".py",
   "mimetype": "text/x-python",
   "name": "python",
   "nbconvert_exporter": "python",
   "pygments_lexer": "ipython2",
   "version": "2.7.10"
  }
 },
 "nbformat": 4,
 "nbformat_minor": 0
}
