{
 "cells": [
  {
   "cell_type": "markdown",
   "metadata": {},
   "source": [
    "# Code for plotting ellipsoids"
   ]
  },
  {
   "cell_type": "code",
   "execution_count": 1,
   "metadata": {
    "collapsed": true
   },
   "outputs": [],
   "source": [
    "#%matplotlib inline"
   ]
  },
  {
   "cell_type": "code",
   "execution_count": 2,
   "metadata": {
    "collapsed": false
   },
   "outputs": [],
   "source": [
    "import matplotlib.pyplot as plt\n",
    "import numpy as np\n",
    "import mesher"
   ]
  },
  {
   "cell_type": "code",
   "execution_count": 3,
   "metadata": {
    "collapsed": false
   },
   "outputs": [],
   "source": [
    "import plot_functions as pfun"
   ]
  },
  {
   "cell_type": "markdown",
   "metadata": {},
   "source": [
    "### 3D models"
   ]
  },
  {
   "cell_type": "code",
   "execution_count": 4,
   "metadata": {
    "collapsed": true
   },
   "outputs": [],
   "source": [
    "# orientation angles (in degrees)\n",
    "strike = 0\n",
    "dip = 0\n",
    "rake = 180"
   ]
  },
  {
   "cell_type": "code",
   "execution_count": 5,
   "metadata": {
    "collapsed": false
   },
   "outputs": [
    {
     "data": {
      "text/plain": [
       "(-180.0, 90.0, 0.0)"
      ]
     },
     "execution_count": 5,
     "metadata": {},
     "output_type": "execute_result"
    }
   ],
   "source": [
    "alpha, gamma, delta = mesher._auxiliary_angles(strike, dip, rake)\n",
    "\n",
    "np.rad2deg(alpha), np.rad2deg(gamma), np.rad2deg(delta)"
   ]
  },
  {
   "cell_type": "code",
   "execution_count": 6,
   "metadata": {
    "collapsed": false
   },
   "outputs": [],
   "source": [
    "oblate = mesher.OblateEllipsoid(0, 0, 0, 4, 15, strike, dip, rake)\n",
    "prolate = mesher.ProlateEllipsoid(0, 20, 0, 15, 4, strike, dip, rake)\n",
    "triaxial = mesher.TriaxialEllipsoid(0, 40, 0, 15.1, 15, 4, strike, dip, rake)"
   ]
  },
  {
   "cell_type": "markdown",
   "metadata": {},
   "source": [
    "### Test"
   ]
  },
  {
   "cell_type": "code",
   "execution_count": 16,
   "metadata": {
    "collapsed": true
   },
   "outputs": [],
   "source": [
    "plt.close('all')\n",
    "fig = plt.figure(figsize=(10,8))\n",
    "ax = fig.gca(projection='3d')\n",
    "\n",
    "pfun.limits(ax, -15, 15, -15, 15, -15, 15)\n",
    "\n",
    "# Triaxial and prolate ellipsoids\n",
    "R = pfun.rotation_matrix_custom(0, 0, 0)\n",
    "pfun.draw_axes(ax, R, 15, 10, 5, 0, 0, 0, axes_color='k')\n",
    "\n",
    "# Oblate ellipsoids (need two extra rotations around axes 3 and 2)\n",
    "R = pfun.rotation_matrix_custom(0, 0, 90)\n",
    "pfun.draw_axes(ax, R, 5, 13, 13, 0, 0, 0, axes_color='r')\n",
    "R = pfun.rotation_matrix_custom(0, 90, 90)\n",
    "pfun.draw_axes(ax, R, 15, 10, 5, 0, 0, 0, axes_color='g')\n",
    "\n",
    "#R = pfun.rotation_matrix_custom(45, 30, 50)\n",
    "#pfun.draw_axes(ax, R, 15, 10, 5, 0, 0, 0, axes_color='b')\n",
    "\n",
    "ax.set_xlabel('x (m)')\n",
    "ax.set_ylabel('y (m)')\n",
    "ax.set_zlabel('z (m)')\n",
    "\n",
    "ax.view_init(215, 20)\n",
    "\n",
    "plt.tight_layout(True)\n",
    "\n",
    "plt.show()"
   ]
  },
  {
   "cell_type": "code",
   "execution_count": null,
   "metadata": {
    "collapsed": true
   },
   "outputs": [],
   "source": []
  }
 ],
 "metadata": {
  "anaconda-cloud": {},
  "kernelspec": {
   "display_name": "Python [default]",
   "language": "python",
   "name": "python2"
  },
  "language_info": {
   "codemirror_mode": {
    "name": "ipython",
    "version": 2
   },
   "file_extension": ".py",
   "mimetype": "text/x-python",
   "name": "python",
   "nbconvert_exporter": "python",
   "pygments_lexer": "ipython2",
   "version": "2.7.10"
  }
 },
 "nbformat": 4,
 "nbformat_minor": 0
}
