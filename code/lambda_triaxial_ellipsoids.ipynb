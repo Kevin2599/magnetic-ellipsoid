{
 "cells": [
  {
   "cell_type": "markdown",
   "metadata": {},
   "source": [
    "# $\\lambda$ variable for triaxial ellipsoids"
   ]
  },
  {
   "cell_type": "code",
   "execution_count": 1,
   "metadata": {
    "collapsed": true
   },
   "outputs": [],
   "source": [
    "%matplotlib inline"
   ]
  },
  {
   "cell_type": "code",
   "execution_count": 2,
   "metadata": {
    "collapsed": true
   },
   "outputs": [],
   "source": [
    "import matplotlib.pyplot as plt\n",
    "import numpy as np"
   ]
  },
  {
   "cell_type": "markdown",
   "metadata": {},
   "source": [
    "Here, we follow the reasoning presented by [Webster (1904)](#webster-dynamics) for analyzing the ellipsoidal coordinate  $\\lambda$ describing a triaxial ellipsoid.\n",
    "\n",
    "Let's consider an ellipsoid with semi-axes $a$, $b$, $c$ oriented along the $x$-, $y$-, and $z$-axis, respectively, where $a > b > c > 0$. This ellipsoid is defined by the following equation:"
   ]
  },
  {
   "cell_type": "markdown",
   "metadata": {},
   "source": [
    "<a id='eq1'></a>\n",
    "$$\n",
    "\\frac{x^{2}}{a^{2}} + \\frac{y^{2}}{b^{2}} + \\frac{z^{2}}{c^{2}} = 1 \\: . \\tag{1}\n",
    "$$"
   ]
  },
  {
   "cell_type": "markdown",
   "metadata": {},
   "source": [
    "A quadric surface which is confocal with the ellipsoid defined in [equation 1](#eq1) can be described as follows:"
   ]
  },
  {
   "cell_type": "markdown",
   "metadata": {},
   "source": [
    "<a id='eq2'></a>\n",
    "\n",
    "$$\n",
    "\\frac{x^{2}}{a^{2} + \\rho} + \\frac{y^{2}}{b^{2} + \\rho} + \\frac{z^{2}}{c^{2} + \\rho} = 1 \\: , \\tag{2}\n",
    "$$"
   ]
  },
  {
   "cell_type": "markdown",
   "metadata": {},
   "source": [
    "where $\\rho$ is a real number. We know that [equation 2](#eq2) represents an ellipsoid for $\\rho$ satisfying the condition"
   ]
  },
  {
   "cell_type": "markdown",
   "metadata": {},
   "source": [
    "<a id='eq3'></a>\n",
    "\n",
    "$$\n",
    "\\rho + c^{2} > 0 \\: . \\tag{3}\n",
    "$$"
   ]
  },
  {
   "cell_type": "markdown",
   "metadata": {},
   "source": [
    "Given $a$, $b$, $c$, and a $\\rho$ satisfying [equation 3](#eq3), we may use [equation 2](#eq2) for determining a set of points $(x, y, z)$ lying on the surface of an ellipsoid confocal with that one defined in [equation 1](#eq1). Now, consider the problem of determining the ellipsoid which is confocal with that one defined in [equation 1](#eq1) and pass through a particular point $(x, y, z)$. This problem consists in determining the real number $\\rho$ that, given $a$, $b$, $c$, $x$, $y$, and $z$, satisfies the [equation 2](#eq2)."
   ]
  },
  {
   "cell_type": "markdown",
   "metadata": {
    "collapsed": true
   },
   "source": [
    "By rearranging [equation 2](#eq2), we obtain the following cubic equation for $\\rho$:"
   ]
  },
  {
   "cell_type": "markdown",
   "metadata": {},
   "source": [
    "$$\n",
    "f(\\rho) = (a^{2} + \\rho)(b^{2} + \\rho)(c^{2} + \\rho) - (b^{2} + \\rho)(c^{2} + \\rho) \\, x^{2}\n",
    "- (a^{2} + \\rho)(c^{2} + \\rho) \\, y^{2} - (a^{2} + \\rho)(b^{2} + \\rho) \\, z^{2} \\: .\n",
    "$$"
   ]
  },
  {
   "cell_type": "markdown",
   "metadata": {},
   "source": [
    "This equation shows that:"
   ]
  },
  {
   "cell_type": "markdown",
   "metadata": {},
   "source": [
    "$$\n",
    "\\rho = \\begin{cases}\n",
    "d \\to \\infty \\: &, \\quad f(\\rho) > 0 \\\\\n",
    "-c^{2} \\: &, \\quad f(\\rho) < 0 \\\\\n",
    "-b^{2} \\: &, \\quad f(\\rho) > 0 \\\\\n",
    "-a^{2} \\: &, \\quad f(\\rho) < 0\n",
    "\\end{cases} \\: .\n",
    "$$"
   ]
  },
  {
   "cell_type": "markdown",
   "metadata": {},
   "source": [
    "By rearanging this equation, we obtain a simpler one given by:"
   ]
  },
  {
   "cell_type": "markdown",
   "metadata": {},
   "source": [
    "<a id='eq4'></a>\n",
    "\n",
    "$$\n",
    "f(\\rho) = \\rho^{3} + p_{2} \\, \\rho^{2} + p_{1} \\, \\rho + p_{0} \\: , \\tag{4}\n",
    "$$"
   ]
  },
  {
   "cell_type": "markdown",
   "metadata": {},
   "source": [
    "where"
   ]
  },
  {
   "cell_type": "markdown",
   "metadata": {},
   "source": [
    "<a id='eq5'></a>\n",
    "\n",
    "$$\n",
    "p_{2} = a^{2} + b^{2} + c^{2} - x^{2} - y^{2} - z^{2} \\: , \\tag{5}\n",
    "$$"
   ]
  },
  {
   "cell_type": "markdown",
   "metadata": {},
   "source": [
    "<a id='eq6'></a>\n",
    "\n",
    "$$\n",
    "p_{1} =  b^{2} \\, c^{2} + a^{2} \\, c^{2} + a^{2} \\, b^{2} - (b^{2} + c^{2}) \\, x^{2} \\\n",
    "- (a^{2} + c^{2}) \\, y^{2} - (a^{2} + b^{2}) \\, z^{2} \\tag{6}\n",
    "$$"
   ]
  },
  {
   "cell_type": "markdown",
   "metadata": {},
   "source": [
    "and"
   ]
  },
  {
   "cell_type": "markdown",
   "metadata": {},
   "source": [
    "<a id='eq7'></a>\n",
    "\n",
    "$$\n",
    "p_{0} =  a^{2} \\, b^{2} \\, c^{2} - b^{2} \\, c^{2} \\, x^{2} \n",
    "- a^{2} \\, c^{2} \\, y^{2} - a^{2} \\, b^{2} \\, z^{2} \\: . \\tag{7}\n",
    "$$"
   ]
  },
  {
   "cell_type": "markdown",
   "metadata": {},
   "source": [
    "Note that a particular $\\rho$ satisfying [equation 2](#eq2) results in $f(\\rho) = 0$ ([equation 4](#eq4)). \n",
    "\n",
    "In order to illustrate the parameter $\\rho$, consider the constants $a$, $b$, $c$, $x$, $y$, and $z$ given in the cell below:"
   ]
  },
  {
   "cell_type": "code",
   "execution_count": 3,
   "metadata": {
    "collapsed": true
   },
   "outputs": [],
   "source": [
    "a = 200.\n",
    "b = 180.\n",
    "c = 150.\n",
    "x = 210.\n",
    "y = 230.\n",
    "z = 300."
   ]
  },
  {
   "cell_type": "markdown",
   "metadata": {},
   "source": [
    "By using these constants, we calculate the coefficients $p_{2}$ ([equation 5](#eq5)), $p_{1}$ ([equation 6](#eq6)) and $p_{0}$ ([equation 7](#eq7)) as follows:"
   ]
  },
  {
   "cell_type": "code",
   "execution_count": 4,
   "metadata": {
    "collapsed": true
   },
   "outputs": [],
   "source": [
    "p2 = a**2 + b**2 + c**2 - x**2 - y**2 - z**2\n",
    "p1 = (b*c)**2 + (a*c)**2 + (a*b)**2 - (b**2 + c**2)*(x**2) - (a**2 + c**2)*(y**2) - (a**2 + b**2)*(z**2)\n",
    "p0 = (a*b*c)**2 - (b*c*x)**2 - (a*c*y)**2 - (a*b*z)**2"
   ]
  },
  {
   "cell_type": "markdown",
   "metadata": {},
   "source": [
    "In the sequence, we define a set of values for the variable $\\rho$ in an interval $\\left[ \\rho_{min} \\, , \\rho_{max} \\right]$ and evaluate the cubic equation $f(\\rho)$ ([equation 4](#eq4))."
   ]
  },
  {
   "cell_type": "code",
   "execution_count": 5,
   "metadata": {
    "collapsed": true
   },
   "outputs": [],
   "source": [
    "rho_min = -a**2 - 10.\n",
    "rho_max = -c**2 + 2000.\n",
    "rho = np.linspace(rho_min, rho_max, 100)"
   ]
  },
  {
   "cell_type": "code",
   "execution_count": 6,
   "metadata": {
    "collapsed": true
   },
   "outputs": [],
   "source": [
    "f = rho**3 + p2*(rho**2) + p1*rho + p0"
   ]
  },
  {
   "cell_type": "markdown",
   "metadata": {},
   "source": [
    "Finally, the cell below shows the cubic equation $f(\\rho)$ ([equation 4](#eq4)) evaluated in the range $\\left[ \\rho_{min} \\, , \\rho_{max} \\right]$ defined above."
   ]
  },
  {
   "cell_type": "code",
   "execution_count": 7,
   "metadata": {
    "collapsed": false
   },
   "outputs": [
    {
     "data": {
      "image/png": "[encoded data removed]",
      "text/plain": [
       "<matplotlib.figure.Figure at 0x7937a90>"
      ]
     },
     "metadata": {},
     "output_type": "display_data"
    }
   ],
   "source": [
    "ymin = np.min(f) - 0.1*(np.max(f) - np.min(f))\n",
    "ymax = np.max(f) + 0.1*(np.max(f) - np.min(f))\n",
    "\n",
    "plt.close('all')\n",
    "plt.figure(figsize=(10,4))\n",
    "\n",
    "plt.subplot(1,2,1)\n",
    "plt.plot([rho_min, rho_max], [0., 0.], 'k-')\n",
    "plt.plot([-a**2, -a**2], [ymin, ymax], 'r--', label = '$-a^{2}$')\n",
    "plt.plot([-b**2, -b**2], [ymin, ymax], 'g--', label = '$-b^{2}$')\n",
    "plt.plot([-c**2, -c**2], [ymin, ymax], 'b--', label = '$-c^{2}$')\n",
    "plt.plot(rho, f, 'k-', linewidth=2.)\n",
    "plt.xlim(rho_min, rho_max)\n",
    "plt.ylim(ymin, ymax)\n",
    "plt.legend(loc = 'best')\n",
    "plt.xlabel('$\\\\rho$', fontsize = 20)\n",
    "plt.ylabel('$f(\\\\rho)$', fontsize = 20)\n",
    "\n",
    "plt.subplot(1,2,2)\n",
    "plt.plot([rho_min, rho_max], [0., 0.], 'k-')\n",
    "plt.plot([-a**2, -a**2], [ymin, ymax], 'r--', label = '$-a^{2}$')\n",
    "plt.plot([-b**2, -b**2], [ymin, ymax], 'g--', label = '$-b^{2}$')\n",
    "plt.plot([-c**2, -c**2], [ymin, ymax], 'b--', label = '$-c^{2}$')\n",
    "plt.plot(rho, f, 'k-', linewidth=2.)\n",
    "plt.xlim(rho_min, -200.)\n",
    "plt.ylim(-0.3*10**8, 10**7)\n",
    "plt.legend(loc = 'best')\n",
    "plt.xlabel('$\\\\rho$', fontsize = 20)\n",
    "#plt.ylabel('$f(\\\\rho)$', fontsize = 20)\n",
    "\n",
    "plt.tight_layout()\n",
    "\n",
    "plt.show()"
   ]
  },
  {
   "cell_type": "markdown",
   "metadata": {},
   "source": [
    "Remember that we are interested in a $\\rho$ satisfying [equation 3](#eq3). Consequently, according to the figures shown above, we are interested in the largest root $\\lambda$ of the cubic equation $f(\\rho)$ ([equation 4](#eq4))."
   ]
  },
  {
   "cell_type": "markdown",
   "metadata": {},
   "source": [
    "The largest root $\\lambda$ of $f(\\rho)$ ([equation 4](#eq4)) can be calculated as follows ([Weisstein](#weisstein-cubic-formula)):"
   ]
  },
  {
   "cell_type": "markdown",
   "metadata": {},
   "source": [
    "<a id='eq8'></a>\n",
    "\n",
    "$$\n",
    "\\lambda = 2 \\, \\sqrt{-Q} \\, \\cos \\left( \\frac{\\theta}{3}\\right) - \\frac{p_{2}}{3} \\: , \\tag{8}\n",
    "$$"
   ]
  },
  {
   "cell_type": "markdown",
   "metadata": {},
   "source": [
    "where"
   ]
  },
  {
   "cell_type": "markdown",
   "metadata": {},
   "source": [
    "<a id='eq9'></a>\n",
    "\n",
    "$$\n",
    "\\theta = \\cos^{-1} \\left( \\frac{R}{\\sqrt{Q^{3}}} \\right) \\: , \\tag{9}\n",
    "$$"
   ]
  },
  {
   "cell_type": "markdown",
   "metadata": {},
   "source": [
    "<a id='eq10a'></a>\n",
    "\n",
    "$$\n",
    "Q = \\frac{3 \\, p_{1} - p_{2}^{2}}{9} \\tag{10a}\n",
    "$$"
   ]
  },
  {
   "cell_type": "markdown",
   "metadata": {},
   "source": [
    "and"
   ]
  },
  {
   "cell_type": "markdown",
   "metadata": {},
   "source": [
    "<a id='eq10b'></a>\n",
    "\n",
    "$$\n",
    "R = \\frac{9 \\, p_{1} \\, p_{2} - 27 \\, p_{0} - 2 \\, p_{2}^{3}}{54} \\: , \\tag{10b}\n",
    "$$"
   ]
  },
  {
   "cell_type": "markdown",
   "metadata": {},
   "source": [
    "for the case in which the quantity $D < 0$, where $D = Q^{3} + R^{2}$. The cells below use the equations [8](#eq8), [9](#eq9), and [10](#eq10) to compute the root $\\lambda$."
   ]
  },
  {
   "cell_type": "code",
   "execution_count": 8,
   "metadata": {
    "collapsed": false
   },
   "outputs": [
    {
     "name": "stdout",
     "output_type": "stream",
     "text": [
      "D = -1034963516680816233524756480.000\n"
     ]
    }
   ],
   "source": [
    "p = (3.*p1 - p2**2)/3.\n",
    "q = (9.*p1*p2 - 27.*p0 - 2.*p2**3)/27.\n",
    "\n",
    "Q = p/3.\n",
    "R = q/2.\n",
    "\n",
    "D = Q**3 + R**2\n",
    "\n",
    "print 'D = %.3f' % D"
   ]
  },
  {
   "cell_type": "code",
   "execution_count": 9,
   "metadata": {
    "collapsed": false
   },
   "outputs": [],
   "source": [
    "theta = np.arccos(R/np.sqrt(-Q*Q*Q))\n",
    "\n",
    "lamb = 2.*np.sqrt(-Q)*np.cos(theta/3.) - p2/3."
   ]
  },
  {
   "cell_type": "code",
   "execution_count": 10,
   "metadata": {
    "collapsed": false
   },
   "outputs": [
    {
     "name": "stdout",
     "output_type": "stream",
     "text": [
      "lambda = 157846.44992\n"
     ]
    }
   ],
   "source": [
    "print 'lambda = %.5f' % lamb"
   ]
  },
  {
   "cell_type": "code",
   "execution_count": 14,
   "metadata": {
    "collapsed": false
   },
   "outputs": [
    {
     "data": {
      "text/plain": [
       "array([ 157846.44991877,  -37471.61650327,  -28274.8334155 ])"
      ]
     },
     "execution_count": 14,
     "metadata": {},
     "output_type": "execute_result"
    }
   ],
   "source": [
    "np.roots([1.0, p2, p1, p0])"
   ]
  },
  {
   "cell_type": "markdown",
   "metadata": {},
   "source": [
    "By substituing $\\lambda$ in [equation 4](#eq4), we can verify that it is a root of $f(\\rho)$."
   ]
  },
  {
   "cell_type": "code",
   "execution_count": 11,
   "metadata": {
    "collapsed": true
   },
   "outputs": [],
   "source": [
    "f_lamb = lamb**3 + p2*(lamb**2) + p1*lamb + p0"
   ]
  },
  {
   "cell_type": "code",
   "execution_count": 12,
   "metadata": {
    "collapsed": false
   },
   "outputs": [
    {
     "name": "stdout",
     "output_type": "stream",
     "text": [
      "f(lambda) = 0.00000\n"
     ]
    }
   ],
   "source": [
    "print 'f(lambda) = %.5f' % f_lamb"
   ]
  },
  {
   "cell_type": "markdown",
   "metadata": {},
   "source": [
    "### References"
   ]
  },
  {
   "cell_type": "markdown",
   "metadata": {},
   "source": [
    "<a id='webster-dynamics'></a>\n",
    "\n",
    "* Webster, A. G. 1904. The Dynamics of Particles and of Rigid, Elastic and Fluid Bodies. Universidade de Michigan.\n",
    "\n",
    "<a id='weisstein-cubic-formula'></a>\n",
    "\n",
    "* Weisstein, Eric W. Cubic Formula. From MathWorld--A Wolfram Web Resource. http://mathworld.wolfram.com/CubicFormula.html"
   ]
  },
  {
   "cell_type": "code",
   "execution_count": null,
   "metadata": {
    "collapsed": true
   },
   "outputs": [],
   "source": []
  }
 ],
 "metadata": {
  "anaconda-cloud": {},
  "kernelspec": {
   "display_name": "Python [default]",
   "language": "python",
   "name": "python2"
  },
  "language_info": {
   "codemirror_mode": {
    "name": "ipython",
    "version": 2
   },
   "file_extension": ".py",
   "mimetype": "text/x-python",
   "name": "python",
   "nbconvert_exporter": "python",
   "pygments_lexer": "ipython2",
   "version": "2.7.12"
  }
 },
 "nbformat": 4,
 "nbformat_minor": 1
}
